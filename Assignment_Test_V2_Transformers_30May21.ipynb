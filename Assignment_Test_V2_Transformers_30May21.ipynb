{
 "cells": [
  {
   "cell_type": "markdown",
   "metadata": {},
   "source": [
    "    ** This notebook consist of my work on \"HackerEarth\" Assignment. I would be using Transformer driven Architecture to classify different classes. "
   ]
  },
  {
   "cell_type": "markdown",
   "metadata": {
    "heading_collapsed": true
   },
   "source": [
    "# Problem Statement"
   ]
  },
  {
   "cell_type": "markdown",
   "metadata": {
    "hidden": true
   },
   "source": [
    "![alt text](problem_statement_.JPG \"Title\")"
   ]
  },
  {
   "cell_type": "markdown",
   "metadata": {
    "hidden": true
   },
   "source": [
    "![alt text](data_description.JPG \"Title\")"
   ]
  },
  {
   "cell_type": "markdown",
   "metadata": {},
   "source": [
    "# Load Libraries "
   ]
  },
  {
   "cell_type": "code",
   "execution_count": 1,
   "metadata": {
    "ExecuteTime": {
     "end_time": "2021-05-30T08:35:50.151986Z",
     "start_time": "2021-05-30T08:35:47.697391Z"
    }
   },
   "outputs": [],
   "source": [
    "from sklearn.utils import class_weight\n",
    "from tensorflow.keras.preprocessing.text import Tokenizer\n",
    "import tensorflow_addons as tfa\n",
    "from tensorflow.keras import layers\n",
    "from tensorflow import keras\n",
    "import tensorflow as tf\n",
    "import sklearn\n",
    "from sklearn.model_selection import train_test_split\n",
    "import pandas as pd\n",
    "import numpy as np\n",
    "import warnings\n",
    "import matplotlib.pyplot as plt\n",
    "import matplotlib.lines as mlines\n",
    "from mpl_toolkits.mplot3d import Axes3D\n",
    "import seaborn as sns\n",
    "import matplotlib.cm as cm\n",
    "from sklearn import metrics\n",
    "sns.set(style=\"whitegrid\", color_codes=True)\n",
    "%matplotlib inline\n",
    "pd.set_option('max_colwidth', 999)\n",
    "pd.set_option('display.max_columns', 999)\n",
    "pd.set_option(\"display.max_rows\", 999)\n",
    "warnings.filterwarnings('ignore')"
   ]
  },
  {
   "cell_type": "markdown",
   "metadata": {
    "ExecuteTime": {
     "end_time": "2021-05-30T07:12:17.809506Z",
     "start_time": "2021-05-30T07:12:17.801783Z"
    }
   },
   "source": [
    "# Load Pre-Processed Data "
   ]
  },
  {
   "cell_type": "markdown",
   "metadata": {},
   "source": [
    "    ** Input Data is the preprocessed Data used will building ML Driven Model."
   ]
  },
  {
   "cell_type": "code",
   "execution_count": 2,
   "metadata": {
    "ExecuteTime": {
     "end_time": "2021-05-30T08:35:59.616728Z",
     "start_time": "2021-05-30T08:35:59.567399Z"
    }
   },
   "outputs": [],
   "source": [
    "train_pre_processed=pd.read_pickle(\n",
    "    \"C:\\\\Users\\\\Zeus\\\\Downloads\\\\HackerEarth\\\\dataset\\\\hm_train_pre_processed.pkl\"\n",
    ")\n",
    "test_pre_processed=pd.read_pickle(\n",
    "    \"C:\\\\Users\\\\Zeus\\\\Downloads\\\\HackerEarth\\\\dataset\\\\hm_test_pre_processed.pkl\"\n",
    ")"
   ]
  },
  {
   "cell_type": "code",
   "execution_count": 3,
   "metadata": {
    "ExecuteTime": {
     "end_time": "2021-05-30T08:36:01.848349Z",
     "start_time": "2021-05-30T08:36:01.787141Z"
    }
   },
   "outputs": [],
   "source": [
    "train_pre_processed['space'] = ' '\n",
    "train_pre_processed['dump'] = train_pre_processed['reflection_period'] + train_pre_processed['space'] + \\\n",
    "    train_pre_processed['num_sentence'].apply(str) + \\\n",
    "    train_pre_processed['space'] + \\\n",
    "    train_pre_processed['pre_processed_clean_hm']\n",
    "test_pre_processed['space'] = ' '\n",
    "test_pre_processed['dump'] = test_pre_processed['reflection_period'] + test_pre_processed['space'] + \\\n",
    "    test_pre_processed['num_sentence'].apply(str) + \\\n",
    "    test_pre_processed['space'] + \\\n",
    "    test_pre_processed['pre_processed_clean_hm']"
   ]
  },
  {
   "cell_type": "code",
   "execution_count": 4,
   "metadata": {
    "ExecuteTime": {
     "end_time": "2021-05-30T08:36:04.116248Z",
     "start_time": "2021-05-30T08:36:04.094306Z"
    }
   },
   "outputs": [
    {
     "name": "stdout",
     "output_type": "stream",
     "text": [
      "(60321, 9)\n"
     ]
    },
    {
     "data": {
      "text/html": [
       "<div>\n",
       "<style scoped>\n",
       "    .dataframe tbody tr th:only-of-type {\n",
       "        vertical-align: middle;\n",
       "    }\n",
       "\n",
       "    .dataframe tbody tr th {\n",
       "        vertical-align: top;\n",
       "    }\n",
       "\n",
       "    .dataframe thead th {\n",
       "        text-align: right;\n",
       "    }\n",
       "</style>\n",
       "<table border=\"1\" class=\"dataframe\">\n",
       "  <thead>\n",
       "    <tr style=\"text-align: right;\">\n",
       "      <th></th>\n",
       "      <th>hmid</th>\n",
       "      <th>reflection_period</th>\n",
       "      <th>cleaned_hm</th>\n",
       "      <th>num_sentence</th>\n",
       "      <th>predicted_category</th>\n",
       "      <th>pre_processed_clean_hm</th>\n",
       "      <th>target</th>\n",
       "      <th>space</th>\n",
       "      <th>dump</th>\n",
       "    </tr>\n",
       "  </thead>\n",
       "  <tbody>\n",
       "    <tr>\n",
       "      <th>0</th>\n",
       "      <td>27673</td>\n",
       "      <td>24h</td>\n",
       "      <td>I went on a successful date with someone I felt sympathy and connection with.</td>\n",
       "      <td>1</td>\n",
       "      <td>affection</td>\n",
       "      <td>go successful date someone felt sympathy connection</td>\n",
       "      <td>1</td>\n",
       "      <td></td>\n",
       "      <td>24h 1 go successful date someone felt sympathy connection</td>\n",
       "    </tr>\n",
       "    <tr>\n",
       "      <th>1</th>\n",
       "      <td>27674</td>\n",
       "      <td>24h</td>\n",
       "      <td>I was happy when my son got 90% marks in his examination</td>\n",
       "      <td>1</td>\n",
       "      <td>affection</td>\n",
       "      <td>happy son get 90 mark examination</td>\n",
       "      <td>1</td>\n",
       "      <td></td>\n",
       "      <td>24h 1 happy son get 90 mark examination</td>\n",
       "    </tr>\n",
       "    <tr>\n",
       "      <th>2</th>\n",
       "      <td>27675</td>\n",
       "      <td>24h</td>\n",
       "      <td>I went to the gym this morning and did yoga.</td>\n",
       "      <td>1</td>\n",
       "      <td>exercise</td>\n",
       "      <td>go gym morning yoga</td>\n",
       "      <td>7</td>\n",
       "      <td></td>\n",
       "      <td>24h 1 go gym morning yoga</td>\n",
       "    </tr>\n",
       "    <tr>\n",
       "      <th>3</th>\n",
       "      <td>27676</td>\n",
       "      <td>24h</td>\n",
       "      <td>We had a serious talk with some friends of ours who have been flaky lately. They understood and we had a good evening hanging out.</td>\n",
       "      <td>2</td>\n",
       "      <td>bonding</td>\n",
       "      <td>serious talk friends flaky lately understood good evening hanging</td>\n",
       "      <td>3</td>\n",
       "      <td></td>\n",
       "      <td>24h 2 serious talk friends flaky lately understood good evening hanging</td>\n",
       "    </tr>\n",
       "    <tr>\n",
       "      <th>4</th>\n",
       "      <td>27677</td>\n",
       "      <td>24h</td>\n",
       "      <td>I went with grandchildren to butterfly display at Crohn Conservatory\\r\\r\\n</td>\n",
       "      <td>1</td>\n",
       "      <td>affection</td>\n",
       "      <td>go grandchild butterfly display crohn conservatory</td>\n",
       "      <td>1</td>\n",
       "      <td></td>\n",
       "      <td>24h 1 go grandchild butterfly display crohn conservatory</td>\n",
       "    </tr>\n",
       "  </tbody>\n",
       "</table>\n",
       "</div>"
      ],
      "text/plain": [
       "    hmid reflection_period  \\\n",
       "0  27673               24h   \n",
       "1  27674               24h   \n",
       "2  27675               24h   \n",
       "3  27676               24h   \n",
       "4  27677               24h   \n",
       "\n",
       "                                                                                                                           cleaned_hm  \\\n",
       "0                                                       I went on a successful date with someone I felt sympathy and connection with.   \n",
       "1                                                                           I was happy when my son got 90% marks in his examination    \n",
       "2                                                                                        I went to the gym this morning and did yoga.   \n",
       "3  We had a serious talk with some friends of ours who have been flaky lately. They understood and we had a good evening hanging out.   \n",
       "4                                                          I went with grandchildren to butterfly display at Crohn Conservatory\\r\\r\\n   \n",
       "\n",
       "   num_sentence predicted_category  \\\n",
       "0             1          affection   \n",
       "1             1          affection   \n",
       "2             1           exercise   \n",
       "3             2            bonding   \n",
       "4             1          affection   \n",
       "\n",
       "                                              pre_processed_clean_hm  target  \\\n",
       "0                go successful date someone felt sympathy connection       1   \n",
       "1                                  happy son get 90 mark examination       1   \n",
       "2                                                go gym morning yoga       7   \n",
       "3  serious talk friends flaky lately understood good evening hanging       3   \n",
       "4                 go grandchild butterfly display crohn conservatory       1   \n",
       "\n",
       "  space  \\\n",
       "0         \n",
       "1         \n",
       "2         \n",
       "3         \n",
       "4         \n",
       "\n",
       "                                                                      dump  \n",
       "0                24h 1 go successful date someone felt sympathy connection  \n",
       "1                                  24h 1 happy son get 90 mark examination  \n",
       "2                                                24h 1 go gym morning yoga  \n",
       "3  24h 2 serious talk friends flaky lately understood good evening hanging  \n",
       "4                 24h 1 go grandchild butterfly display crohn conservatory  "
      ]
     },
     "metadata": {},
     "output_type": "display_data"
    },
    {
     "name": "stdout",
     "output_type": "stream",
     "text": [
      "(40213, 7)\n"
     ]
    },
    {
     "data": {
      "text/html": [
       "<div>\n",
       "<style scoped>\n",
       "    .dataframe tbody tr th:only-of-type {\n",
       "        vertical-align: middle;\n",
       "    }\n",
       "\n",
       "    .dataframe tbody tr th {\n",
       "        vertical-align: top;\n",
       "    }\n",
       "\n",
       "    .dataframe thead th {\n",
       "        text-align: right;\n",
       "    }\n",
       "</style>\n",
       "<table border=\"1\" class=\"dataframe\">\n",
       "  <thead>\n",
       "    <tr style=\"text-align: right;\">\n",
       "      <th></th>\n",
       "      <th>hmid</th>\n",
       "      <th>reflection_period</th>\n",
       "      <th>cleaned_hm</th>\n",
       "      <th>num_sentence</th>\n",
       "      <th>pre_processed_clean_hm</th>\n",
       "      <th>space</th>\n",
       "      <th>dump</th>\n",
       "    </tr>\n",
       "  </thead>\n",
       "  <tbody>\n",
       "    <tr>\n",
       "      <th>0</th>\n",
       "      <td>88305</td>\n",
       "      <td>3m</td>\n",
       "      <td>I spent the weekend in Chicago with my friends.</td>\n",
       "      <td>1</td>\n",
       "      <td>spent weekend chicago friend</td>\n",
       "      <td></td>\n",
       "      <td>3m 1 spent weekend chicago friend</td>\n",
       "    </tr>\n",
       "    <tr>\n",
       "      <th>1</th>\n",
       "      <td>88306</td>\n",
       "      <td>3m</td>\n",
       "      <td>We moved back into our house after a remodel. We had lived in a hotel for 9 months due to our home being severely damaged in a tornado.</td>\n",
       "      <td>2</td>\n",
       "      <td>move back house remodel live hotel 9 month due home severely damage tornado</td>\n",
       "      <td></td>\n",
       "      <td>3m 2 move back house remodel live hotel 9 month due home severely damage tornado</td>\n",
       "    </tr>\n",
       "    <tr>\n",
       "      <th>2</th>\n",
       "      <td>88307</td>\n",
       "      <td>3m</td>\n",
       "      <td>My fiance proposed to me in front of my family in the beginning of March.</td>\n",
       "      <td>1</td>\n",
       "      <td>fiance propose front family begin march</td>\n",
       "      <td></td>\n",
       "      <td>3m 1 fiance propose front family begin march</td>\n",
       "    </tr>\n",
       "    <tr>\n",
       "      <th>3</th>\n",
       "      <td>88308</td>\n",
       "      <td>3m</td>\n",
       "      <td>I ate lobster at a fancy restaurant with some friends.</td>\n",
       "      <td>1</td>\n",
       "      <td>ate lobster fancy restaurant friend</td>\n",
       "      <td></td>\n",
       "      <td>3m 1 ate lobster fancy restaurant friend</td>\n",
       "    </tr>\n",
       "    <tr>\n",
       "      <th>4</th>\n",
       "      <td>88309</td>\n",
       "      <td>3m</td>\n",
       "      <td>I went out to a nice restaurant on a date with my wife. It was a very popular restaurant and we could not get a reservation. But I have a friend who owns a famous hamburger place next door to this restaurant. He was able to get us a table! We had a great table, great service, great food, and they even comped most of our dinner, so we paid almost nothing!</td>\n",
       "      <td>5</td>\n",
       "      <td>go nice restaurant date wife popular restaurant could get reservation friend own famous hamburger place next door restaurant able get You table great table great service great food even comped dinner pay almost nothing</td>\n",
       "      <td></td>\n",
       "      <td>3m 5 go nice restaurant date wife popular restaurant could get reservation friend own famous hamburger place next door restaurant able get You table great table great service great food even comped dinner pay almost nothing</td>\n",
       "    </tr>\n",
       "  </tbody>\n",
       "</table>\n",
       "</div>"
      ],
      "text/plain": [
       "    hmid reflection_period  \\\n",
       "0  88305                3m   \n",
       "1  88306                3m   \n",
       "2  88307                3m   \n",
       "3  88308                3m   \n",
       "4  88309                3m   \n",
       "\n",
       "                                                                                                                                                                                                                                                                                                                                                              cleaned_hm  \\\n",
       "0                                                                                                                                                                                                                                                                                                                        I spent the weekend in Chicago with my friends.   \n",
       "1                                                                                                                                                                                                                               We moved back into our house after a remodel. We had lived in a hotel for 9 months due to our home being severely damaged in a tornado.    \n",
       "2                                                                                                                                                                                                                                                                                              My fiance proposed to me in front of my family in the beginning of March.   \n",
       "3                                                                                                                                                                                                                                                                                                                 I ate lobster at a fancy restaurant with some friends.   \n",
       "4  I went out to a nice restaurant on a date with my wife. It was a very popular restaurant and we could not get a reservation. But I have a friend who owns a famous hamburger place next door to this restaurant. He was able to get us a table! We had a great table, great service, great food, and they even comped most of our dinner, so we paid almost nothing!    \n",
       "\n",
       "   num_sentence  \\\n",
       "0             1   \n",
       "1             2   \n",
       "2             1   \n",
       "3             1   \n",
       "4             5   \n",
       "\n",
       "                                                                                                                                                                                                       pre_processed_clean_hm  \\\n",
       "0                                                                                                                                                                                                spent weekend chicago friend   \n",
       "1                                                                                                                                                 move back house remodel live hotel 9 month due home severely damage tornado   \n",
       "2                                                                                                                                                                                     fiance propose front family begin march   \n",
       "3                                                                                                                                                                                         ate lobster fancy restaurant friend   \n",
       "4  go nice restaurant date wife popular restaurant could get reservation friend own famous hamburger place next door restaurant able get You table great table great service great food even comped dinner pay almost nothing   \n",
       "\n",
       "  space  \\\n",
       "0         \n",
       "1         \n",
       "2         \n",
       "3         \n",
       "4         \n",
       "\n",
       "                                                                                                                                                                                                                              dump  \n",
       "0                                                                                                                                                                                                3m 1 spent weekend chicago friend  \n",
       "1                                                                                                                                                 3m 2 move back house remodel live hotel 9 month due home severely damage tornado  \n",
       "2                                                                                                                                                                                     3m 1 fiance propose front family begin march  \n",
       "3                                                                                                                                                                                         3m 1 ate lobster fancy restaurant friend  \n",
       "4  3m 5 go nice restaurant date wife popular restaurant could get reservation friend own famous hamburger place next door restaurant able get You table great table great service great food even comped dinner pay almost nothing  "
      ]
     },
     "metadata": {},
     "output_type": "display_data"
    }
   ],
   "source": [
    "print(train_pre_processed.shape)\n",
    "display(train_pre_processed.head())\n",
    "print(test_pre_processed.shape)\n",
    "display(test_pre_processed.head())"
   ]
  },
  {
   "cell_type": "markdown",
   "metadata": {},
   "source": [
    "## Target Mapping"
   ]
  },
  {
   "cell_type": "code",
   "execution_count": 5,
   "metadata": {
    "ExecuteTime": {
     "end_time": "2021-05-30T08:36:15.998686Z",
     "start_time": "2021-05-30T08:36:15.990690Z"
    }
   },
   "outputs": [],
   "source": [
    "target_mapping = {\n",
    "    'affection': 0,\n",
    "    'achievement': 1,\n",
    "    'bonding': 2,\n",
    "    'enjoy_the_moment': 3,\n",
    "    'leisure': 4,\n",
    "    'nature': 5,\n",
    "    'exercise': 6\n",
    "}"
   ]
  },
  {
   "cell_type": "code",
   "execution_count": 6,
   "metadata": {
    "ExecuteTime": {
     "end_time": "2021-05-30T08:36:21.273263Z",
     "start_time": "2021-05-30T08:36:21.246314Z"
    }
   },
   "outputs": [],
   "source": [
    "train_pre_processed['target'] = train_pre_processed.predicted_category.apply(\n",
    "    lambda x: target_mapping[x]).copy()"
   ]
  },
  {
   "cell_type": "markdown",
   "metadata": {},
   "source": [
    "# Define Architecture Transformer "
   ]
  },
  {
   "cell_type": "code",
   "execution_count": 7,
   "metadata": {
    "ExecuteTime": {
     "end_time": "2021-05-30T08:36:29.132951Z",
     "start_time": "2021-05-30T08:36:29.115000Z"
    }
   },
   "outputs": [],
   "source": [
    "class TransformerBlock(layers.Layer):\n",
    "    def __init__(self, embed_dim, num_heads, ff_dim, rate=0.1):\n",
    "        super(TransformerBlock, self).__init__()\n",
    "        self.att = layers.MultiHeadAttention(num_heads=num_heads,\n",
    "                                             key_dim=embed_dim)\n",
    "        self.ffn = keras.Sequential([\n",
    "            layers.Dense(ff_dim, activation=\"relu\"),\n",
    "            layers.Dense(embed_dim),\n",
    "        ])\n",
    "        self.layernorm1 = layers.LayerNormalization(epsilon=1e-6)\n",
    "        self.layernorm2 = layers.LayerNormalization(epsilon=1e-6)\n",
    "        self.dropout1 = layers.Dropout(rate)\n",
    "        self.dropout2 = layers.Dropout(rate)\n",
    "\n",
    "    def call(self, inputs, training):\n",
    "        attn_output = self.att(inputs, inputs)\n",
    "        attn_output = self.dropout1(attn_output, training=training)\n",
    "        out1 = self.layernorm1(inputs + attn_output)\n",
    "        ffn_output = self.ffn(out1)\n",
    "        ffn_output = self.dropout2(ffn_output, training=training)\n",
    "        return self.layernorm2(out1 + ffn_output)"
   ]
  },
  {
   "cell_type": "code",
   "execution_count": 8,
   "metadata": {
    "ExecuteTime": {
     "end_time": "2021-05-30T08:36:29.716588Z",
     "start_time": "2021-05-30T08:36:29.707613Z"
    }
   },
   "outputs": [],
   "source": [
    "class TokenAndPositionEmbedding(layers.Layer):\n",
    "    def __init__(self, maxlen, vocab_size, embed_dim):\n",
    "        super(TokenAndPositionEmbedding, self).__init__()\n",
    "        self.token_emb = layers.Embedding(input_dim=vocab_size,\n",
    "                                          output_dim=embed_dim)\n",
    "        self.pos_emb = layers.Embedding(input_dim=maxlen, output_dim=embed_dim)\n",
    "\n",
    "    def call(self, x):\n",
    "        maxlen = tf.shape(x)[-1]\n",
    "        positions = tf.range(start=0, limit=maxlen, delta=1)\n",
    "        positions = self.pos_emb(positions)\n",
    "        x = self.token_emb(x)\n",
    "        return x + positions"
   ]
  },
  {
   "cell_type": "markdown",
   "metadata": {},
   "source": [
    "# Hyper-Space"
   ]
  },
  {
   "cell_type": "code",
   "execution_count": 13,
   "metadata": {
    "ExecuteTime": {
     "end_time": "2021-05-30T08:36:49.656885Z",
     "start_time": "2021-05-30T08:36:49.652896Z"
    }
   },
   "outputs": [],
   "source": [
    "vocab_size = 60000\n",
    "maxlen = 350\n",
    "embed_dim = 32 \n",
    "num_heads = 4 \n",
    "ff_dim = 32  "
   ]
  },
  {
   "cell_type": "markdown",
   "metadata": {
    "ExecuteTime": {
     "end_time": "2021-05-30T07:35:02.355784Z",
     "start_time": "2021-05-30T07:35:02.348693Z"
    }
   },
   "source": [
    "# Data Ready For Deep-Learning"
   ]
  },
  {
   "cell_type": "code",
   "execution_count": 14,
   "metadata": {
    "ExecuteTime": {
     "end_time": "2021-05-30T08:36:52.843051Z",
     "start_time": "2021-05-30T08:36:50.932242Z"
    }
   },
   "outputs": [],
   "source": [
    "tokenizer = Tokenizer(num_words=vocab_size)\n",
    "tokenizer.fit_on_texts(train_pre_processed.dump)\n",
    "X_train = tokenizer.texts_to_sequences(train_pre_processed.dump)\n",
    "X_test = tokenizer.texts_to_sequences(test_pre_processed.dump)\n",
    "train = keras.preprocessing.sequence.pad_sequences(np.array(X_train),\n",
    "                                                   maxlen=maxlen)\n",
    "test = keras.preprocessing.sequence.pad_sequences(np.array(X_test),\n",
    "                                                  maxlen=maxlen)\n",
    "del X_train, X_test"
   ]
  },
  {
   "cell_type": "code",
   "execution_count": 15,
   "metadata": {
    "ExecuteTime": {
     "end_time": "2021-05-30T08:36:53.467371Z",
     "start_time": "2021-05-30T08:36:53.463383Z"
    }
   },
   "outputs": [
    {
     "name": "stdout",
     "output_type": "stream",
     "text": [
      "(60321, 350)\n",
      "(40213, 350)\n"
     ]
    }
   ],
   "source": [
    "print(train.shape)\n",
    "print(test.shape)"
   ]
  },
  {
   "cell_type": "code",
   "execution_count": 16,
   "metadata": {
    "ExecuteTime": {
     "end_time": "2021-05-30T08:36:54.681952Z",
     "start_time": "2021-05-30T08:36:54.666423Z"
    }
   },
   "outputs": [],
   "source": [
    "Y_train = keras.utils.to_categorical(\n",
    "    pd.Series(np.array(train_pre_processed.target), dtype=float), 7)"
   ]
  },
  {
   "cell_type": "markdown",
   "metadata": {},
   "source": [
    "# Model Architecture"
   ]
  },
  {
   "cell_type": "code",
   "execution_count": 80,
   "metadata": {
    "ExecuteTime": {
     "end_time": "2021-05-30T09:46:39.261411Z",
     "start_time": "2021-05-30T09:46:38.908756Z"
    }
   },
   "outputs": [],
   "source": [
    "inputs = layers.Input(shape=(maxlen, ))\n",
    "embedding_layer = TokenAndPositionEmbedding(maxlen, vocab_size, embed_dim)\n",
    "x = embedding_layer(inputs)\n",
    "transformer_block = TransformerBlock(embed_dim, num_heads, ff_dim)\n",
    "x = transformer_block(x)\n",
    "x = layers.GlobalAveragePooling1D()(x)\n",
    "x = layers.Dropout(0.4)(x)\n",
    "x = layers.Dense(50, activation=\"relu\")(x)\n",
    "x = layers.Dropout(0.4)(x)\n",
    "x = layers.Dense(20, activation=\"relu\")(x)\n",
    "\n",
    "outputs = layers.Dense(7, activation=\"softmax\")(x)\n",
    "\n",
    "model = keras.Model(inputs=inputs, outputs=outputs)"
   ]
  },
  {
   "cell_type": "code",
   "execution_count": 81,
   "metadata": {
    "ExecuteTime": {
     "end_time": "2021-05-30T09:46:39.900588Z",
     "start_time": "2021-05-30T09:46:39.890614Z"
    }
   },
   "outputs": [
    {
     "name": "stdout",
     "output_type": "stream",
     "text": [
      "Model: \"model_7\"\n",
      "_________________________________________________________________\n",
      "Layer (type)                 Output Shape              Param #   \n",
      "=================================================================\n",
      "input_8 (InputLayer)         [(None, 350)]             0         \n",
      "_________________________________________________________________\n",
      "token_and_position_embedding (None, 350, 32)           1931200   \n",
      "_________________________________________________________________\n",
      "transformer_block_7 (Transfo (None, 350, 32)           19040     \n",
      "_________________________________________________________________\n",
      "global_average_pooling1d_7 ( (None, 32)                0         \n",
      "_________________________________________________________________\n",
      "dropout_32 (Dropout)         (None, 32)                0         \n",
      "_________________________________________________________________\n",
      "dense_32 (Dense)             (None, 50)                1650      \n",
      "_________________________________________________________________\n",
      "dropout_33 (Dropout)         (None, 50)                0         \n",
      "_________________________________________________________________\n",
      "dense_33 (Dense)             (None, 20)                1020      \n",
      "_________________________________________________________________\n",
      "dense_34 (Dense)             (None, 7)                 147       \n",
      "=================================================================\n",
      "Total params: 1,953,057\n",
      "Trainable params: 1,953,057\n",
      "Non-trainable params: 0\n",
      "_________________________________________________________________\n"
     ]
    }
   ],
   "source": [
    "model.summary()"
   ]
  },
  {
   "cell_type": "code",
   "execution_count": 82,
   "metadata": {
    "ExecuteTime": {
     "end_time": "2021-05-30T09:46:41.296998Z",
     "start_time": "2021-05-30T09:46:41.287025Z"
    }
   },
   "outputs": [],
   "source": [
    "model.compile(optimizer='adam',\n",
    "              loss=\"categorical_crossentropy\",\n",
    "              metrics=[keras.metrics.categorical_accuracy])"
   ]
  },
  {
   "cell_type": "code",
   "execution_count": 83,
   "metadata": {
    "ExecuteTime": {
     "end_time": "2021-05-30T09:49:49.441389Z",
     "start_time": "2021-05-30T09:46:43.771283Z"
    },
    "scrolled": true
   },
   "outputs": [
    {
     "name": "stdout",
     "output_type": "stream",
     "text": [
      "Epoch 1/5\n",
      "1697/1697 [==============================] - 38s 22ms/step - loss: 1.5428 - categorical_accuracy: 0.3553 - val_loss: 1.0369 - val_categorical_accuracy: 0.5425\n",
      "Epoch 2/5\n",
      "1697/1697 [==============================] - 37s 22ms/step - loss: 0.8866 - categorical_accuracy: 0.6615 - val_loss: 0.5517 - val_categorical_accuracy: 0.8202\n",
      "Epoch 3/5\n",
      "1697/1697 [==============================] - 37s 22ms/step - loss: 0.5122 - categorical_accuracy: 0.8363 - val_loss: 0.4606 - val_categorical_accuracy: 0.8510\n",
      "Epoch 4/5\n",
      "1697/1697 [==============================] - 37s 22ms/step - loss: 0.4104 - categorical_accuracy: 0.8687 - val_loss: 0.4690 - val_categorical_accuracy: 0.8463\n",
      "Epoch 5/5\n",
      "1697/1697 [==============================] - 37s 22ms/step - loss: 0.3618 - categorical_accuracy: 0.8868 - val_loss: 0.4596 - val_categorical_accuracy: 0.8570\n"
     ]
    }
   ],
   "source": [
    "history = model.fit(train,\n",
    "                    Y_train,\n",
    "                    batch_size=32,\n",
    "                    epochs=5,\n",
    "                    validation_split=0.1,\n",
    "                    callbacks=tf.keras.callbacks.EarlyStopping(\n",
    "                        monitor=\"val_loss\",\n",
    "                        min_delta=0,\n",
    "                        patience=5,\n",
    "                        verbose=1,\n",
    "                        mode=\"auto\",\n",
    "                        baseline=None,\n",
    "                        restore_best_weights=True,\n",
    "                    ),\n",
    "                    use_multiprocessing=True)"
   ]
  },
  {
   "cell_type": "markdown",
   "metadata": {},
   "source": [
    "# Model Evaluate "
   ]
  },
  {
   "cell_type": "markdown",
   "metadata": {},
   "source": [
    "## Learning Curve "
   ]
  },
  {
   "cell_type": "code",
   "execution_count": 84,
   "metadata": {
    "ExecuteTime": {
     "end_time": "2021-05-30T09:49:56.170865Z",
     "start_time": "2021-05-30T09:49:55.869623Z"
    }
   },
   "outputs": [
    {
     "data": {
      "image/png": "[encoded data removed]",
      "text/plain": [
       "<Figure size 432x288 with 1 Axes>"
      ]
     },
     "metadata": {
      "needs_background": "light"
     },
     "output_type": "display_data"
    },
    {
     "data": {
      "image/png": "[encoded data removed]",
      "text/plain": [
       "<Figure size 432x288 with 1 Axes>"
      ]
     },
     "metadata": {
      "needs_background": "light"
     },
     "output_type": "display_data"
    }
   ],
   "source": [
    "plt.plot(history.history['loss'])\n",
    "plt.plot(history.history['val_loss'])\n",
    "plt.title('Text classification with Transformer : Loss', fontsize='x-large')\n",
    "plt.ylabel('Loss', fontsize='large')\n",
    "plt.xlabel('Epoch', fontsize='large')\n",
    "plt.legend(['Train', 'Test'], loc='upper right', fontsize='x-large')\n",
    "plt.rc('ytick', labelsize=12)\n",
    "plt.show()\n",
    "plt.plot(history.history['categorical_accuracy'])\n",
    "plt.plot(history.history['val_categorical_accuracy'])\n",
    "plt.title('Text classification with Transformer : Accuracy',\n",
    "          fontsize='x-large')\n",
    "plt.ylabel('Accuracy', fontsize='large')\n",
    "plt.xlabel('Epoch', fontsize='large')\n",
    "plt.legend(['Train', 'Test'], fontsize='x-large', loc='lower right')\n",
    "plt.show()"
   ]
  },
  {
   "cell_type": "markdown",
   "metadata": {},
   "source": [
    "## Train Evaluate "
   ]
  },
  {
   "cell_type": "code",
   "execution_count": 85,
   "metadata": {
    "ExecuteTime": {
     "end_time": "2021-05-30T09:50:09.272538Z",
     "start_time": "2021-05-30T09:50:00.316873Z"
    }
   },
   "outputs": [
    {
     "name": "stdout",
     "output_type": "stream",
     "text": [
      "              precision    recall  f1-score   support\n",
      "\n",
      "           0       0.93      0.97      0.95     20880\n",
      "           1       0.95      0.89      0.92     20274\n",
      "           2       0.91      0.96      0.93      6561\n",
      "           3       0.84      0.81      0.83      6508\n",
      "           4       0.87      0.86      0.87      4242\n",
      "           5       0.79      0.82      0.81      1127\n",
      "           6       0.79      0.84      0.81       729\n",
      "\n",
      "    accuracy                           0.91     60321\n",
      "   macro avg       0.87      0.88      0.87     60321\n",
      "weighted avg       0.91      0.91      0.91     60321\n",
      "\n"
     ]
    }
   ],
   "source": [
    "print(\n",
    "    metrics.classification_report(\n",
    "        np.argmax(Y_train, axis=1).tolist(),\n",
    "        np.argmax(model.predict(train, workers=-1, use_multiprocessing=True),\n",
    "                  axis=1).tolist()))"
   ]
  },
  {
   "cell_type": "markdown",
   "metadata": {},
   "source": [
    "# Final Submission"
   ]
  },
  {
   "cell_type": "code",
   "execution_count": 86,
   "metadata": {
    "ExecuteTime": {
     "end_time": "2021-05-30T09:50:17.763455Z",
     "start_time": "2021-05-30T09:50:17.750491Z"
    }
   },
   "outputs": [],
   "source": [
    "def get_key(val):\n",
    "    for key, value in target_mapping.items():\n",
    "        if val == value:\n",
    "            return key\n",
    "\n",
    "    return \"key doesn't exist\""
   ]
  },
  {
   "cell_type": "code",
   "execution_count": 116,
   "metadata": {
    "ExecuteTime": {
     "end_time": "2021-05-30T10:22:50.659579Z",
     "start_time": "2021-05-30T10:22:44.692271Z"
    }
   },
   "outputs": [],
   "source": [
    "test_pre_processed['pred'] = np.argmax(model.predict(test,\n",
    "                                                     workers=-1,\n",
    "                                                     use_multiprocessing=True),\n",
    "                                       axis=1)\n",
    "test_pre_processed['predicted_category'] = test_pre_processed['pred'].apply(\n",
    "    lambda x: get_key(x))\n",
    "test_pre_processed[['hmid', 'predicted_category']].to_csv(\n",
    "    \"C:\\\\Users\\\\Zeus\\\\Downloads\\\\HackerEarth\\\\dataset\\\\Submission\\\\submission_13_transformer.csv\",\n",
    "    index=False)"
   ]
  },
  {
   "cell_type": "markdown",
   "metadata": {},
   "source": [
    "# End "
   ]
  }
 ],
 "metadata": {
  "kernelspec": {
   "display_name": "Python 3",
   "language": "python",
   "name": "python3"
  },
  "language_info": {
   "codemirror_mode": {
    "name": "ipython",
    "version": 3
   },
   "file_extension": ".py",
   "mimetype": "text/x-python",
   "name": "python",
   "nbconvert_exporter": "python",
   "pygments_lexer": "ipython3",
   "version": "3.8.5"
  },
  "toc": {
   "base_numbering": 1,
   "nav_menu": {},
   "number_sections": true,
   "sideBar": true,
   "skip_h1_title": false,
   "title_cell": "Table of Contents",
   "title_sidebar": "Contents",
   "toc_cell": false,
   "toc_position": {
    "height": "calc(100% - 180px)",
    "left": "10px",
    "top": "150px",
    "width": "296.441px"
   },
   "toc_section_display": true,
   "toc_window_display": true
  },
  "varInspector": {
   "cols": {
    "lenName": 16,
    "lenType": 16,
    "lenVar": 40
   },
   "kernels_config": {
    "python": {
     "delete_cmd_postfix": "",
     "delete_cmd_prefix": "del ",
     "library": "var_list.py",
     "varRefreshCmd": "print(var_dic_list())"
    },
    "r": {
     "delete_cmd_postfix": ") ",
     "delete_cmd_prefix": "rm(",
     "library": "var_list.r",
     "varRefreshCmd": "cat(var_dic_list()) "
    }
   },
   "position": {
    "height": "852.205px",
    "left": "1640.33px",
    "right": "20px",
    "top": "129px",
    "width": "362.778px"
   },
   "types_to_exclude": [
    "module",
    "function",
    "builtin_function_or_method",
    "instance",
    "_Feature"
   ],
   "window_display": true
  }
 },
 "nbformat": 4,
 "nbformat_minor": 4
}

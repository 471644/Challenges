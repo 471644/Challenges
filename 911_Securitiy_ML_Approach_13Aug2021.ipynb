{
 "cells": [
  {
   "cell_type": "markdown",
   "metadata": {},
   "source": [
    "# Motivation"
   ]
  },
  {
   "cell_type": "markdown",
   "metadata": {},
   "source": [
    "&#9680; To understand the given dataset.\n",
    "\n",
    "&#9680; To come up with a Machine Learning Problem Statement for the given dataset.\n",
    "\n",
    "&#9680; State a Hypothesis on the Problem\n",
    "\n",
    "&#9680; Preform Exploratory Data Analysis on the data\n",
    "\n",
    "&#9680; Build a model to prove your hypothesis\n",
    "\n",
    "&#9680; Evaluate and Report the results"
   ]
  },
  {
   "cell_type": "markdown",
   "metadata": {
    "heading_collapsed": true
   },
   "source": [
    "# Load Libraries "
   ]
  },
  {
   "cell_type": "code",
   "execution_count": 1,
   "metadata": {
    "ExecuteTime": {
     "end_time": "2021-08-13T06:37:38.842305Z",
     "start_time": "2021-08-13T06:37:35.731527Z"
    },
    "hidden": true
   },
   "outputs": [],
   "source": [
    "import pandas as pd\n",
    "import numpy as np\n",
    "import warnings\n",
    "import os\n",
    "import re\n",
    "import math\n",
    "import time\n",
    "import lightgbm as lgb\n",
    "from sklearn.linear_model import LogisticRegression\n",
    "from sklearn.feature_extraction.text import TfidfVectorizer\n",
    "import swifter\n",
    "from sklearn.model_selection import train_test_split\n",
    "import matplotlib.pyplot as plt\n",
    "import joblib\n",
    "%matplotlib inline\n",
    "warnings.filterwarnings(\"ignore\")\n",
    "pd.set_option('max_colwidth', 999)\n",
    "pd.set_option('display.max_columns', 999)\n",
    "pd.set_option(\"display.max_rows\", 999)"
   ]
  },
  {
   "cell_type": "code",
   "execution_count": 19,
   "metadata": {
    "ExecuteTime": {
     "end_time": "2021-08-13T07:50:18.433880Z",
     "start_time": "2021-08-13T07:50:18.379616Z"
    },
    "hidden": true
   },
   "outputs": [],
   "source": [
    "import seaborn as sns"
   ]
  },
  {
   "cell_type": "markdown",
   "metadata": {
    "heading_collapsed": true
   },
   "source": [
    "# Tools & Utilities "
   ]
  },
  {
   "cell_type": "code",
   "execution_count": 6,
   "metadata": {
    "ExecuteTime": {
     "end_time": "2021-08-13T07:19:33.772970Z",
     "start_time": "2021-08-13T07:19:33.761999Z"
    },
    "hidden": true
   },
   "outputs": [],
   "source": [
    "import sklearn.metrics as metrics\n",
    "\n",
    "\n",
    "def perf_measure(y_actual, y_pred):\n",
    "    eval_dict = {}\n",
    "    cm = metrics.confusion_matrix(y_actual, y_pred)\n",
    "    TN = cm[0][0]\n",
    "    TP = cm[1][1]\n",
    "    FN = cm[1][0]\n",
    "    FP = cm[0][1]\n",
    "    prfs = metrics.precision_recall_fscore_support(y_actual, y_pred)\n",
    "    eval_dict['Recall'] = [\n",
    "        metrics.recall_score(y_actual, y_pred), prfs[1][0], prfs[1][1]\n",
    "    ]\n",
    "    eval_dict['Precision'] = [\n",
    "        metrics.precision_score(y_actual, y_pred), prfs[0][0], prfs[0][1]\n",
    "    ]\n",
    "    eval_dict['False_Positive_Rate'] = [FP / prfs[3][0]]\n",
    "    eval_dict['False_Negative_Rate'] = [FN / prfs[3][1]]\n",
    "    eval_dict['F1_Score'] = [\n",
    "        metrics.f1_score(y_actual, y_pred), prfs[2][0], prfs[2][1]\n",
    "    ]\n",
    "    eval_dict['Accuracy'] = [\n",
    "        metrics.accuracy_score(y_actual, y_pred), TN / prfs[3][0],\n",
    "        TP / prfs[3][1]\n",
    "    ]\n",
    "    eval_dict['Class_Count'] = [\n",
    "        len(y_actual) / 100,\n",
    "        len([i for i in y_actual if i in [0, 'clean']]) / 100,\n",
    "        len([i for i in y_actual if i in [1, 'malicious']]) / 100\n",
    "    ]\n",
    "    eval_dict['Class_Ratio'] = [\n",
    "        i / len(y_actual) for i in eval_dict['Class_Count']\n",
    "    ]\n",
    "    return pd.DataFrame(eval_dict, index=['Overall', 0, 1]) * 100"
   ]
  },
  {
   "cell_type": "code",
   "execution_count": 40,
   "metadata": {
    "ExecuteTime": {
     "end_time": "2021-08-13T08:27:13.498005Z",
     "start_time": "2021-08-13T08:27:13.487034Z"
    },
    "hidden": true
   },
   "outputs": [],
   "source": [
    "def haversine_array(lat1, lng1, lat2, lng2):\n",
    "    lat1, lng1, lat2, lng2 = map(np.radians, (lat1, lng1, lat2, lng2))\n",
    "    AVG_EARTH_RADIUS = 6371  # in km\n",
    "    lat = lat2 - lat1\n",
    "    lng = lng2 - lng1\n",
    "    d = np.sin(\n",
    "        lat * 0.5)**2 + np.cos(lat1) * np.cos(lat2) * np.sin(lng * 0.5)**2\n",
    "    h = 2 * AVG_EARTH_RADIUS * np.arcsin(np.sqrt(d))\n",
    "    return h"
   ]
  },
  {
   "cell_type": "code",
   "execution_count": 76,
   "metadata": {
    "ExecuteTime": {
     "end_time": "2021-08-13T10:19:54.697743Z",
     "start_time": "2021-08-13T10:19:54.679843Z"
    },
    "hidden": true
   },
   "outputs": [],
   "source": [
    "def bearing_array(lat1, lng1, lat2, lng2):\n",
    "    AVG_EARTH_RADIUS = 6371  # in km\n",
    "    lng_delta_rad = np.radians(lng2 - lng1)\n",
    "    lat1, lng1, lat2, lng2 = map(np.radians, (lat1, lng1, lat2, lng2))\n",
    "    y = np.sin(lng_delta_rad) * np.cos(lat2)\n",
    "    x = np.cos(lat1) * np.sin(lat2) - np.sin(lat1) * np.cos(lat2) * np.cos(\n",
    "        lng_delta_rad)\n",
    "    return np.degrees(np.arctan2(y, x))"
   ]
  },
  {
   "cell_type": "code",
   "execution_count": 77,
   "metadata": {
    "ExecuteTime": {
     "end_time": "2021-08-13T10:31:05.353434Z",
     "start_time": "2021-08-13T10:31:05.337477Z"
    },
    "hidden": true
   },
   "outputs": [],
   "source": [
    "from scipy.spatial import distance\n",
    "\n",
    "\n",
    "def euclidean_distance(lat1, lng1, lat2, lng2):\n",
    "    return distance.euclidean((lat1, lng1), (lat2, lng2))"
   ]
  },
  {
   "cell_type": "markdown",
   "metadata": {
    "heading_collapsed": true
   },
   "source": [
    "# Load Data "
   ]
  },
  {
   "cell_type": "code",
   "execution_count": 51,
   "metadata": {
    "ExecuteTime": {
     "end_time": "2021-08-13T08:37:48.893689Z",
     "start_time": "2021-08-13T08:37:43.906802Z"
    },
    "hidden": true
   },
   "outputs": [],
   "source": [
    "data_airport = pd.read_excel(\"3-1 to 3-31.xlsx\")\n",
    "data_drones_model = pd.read_excel(\"DJI Model Spreadsheet.xlsx\")"
   ]
  },
  {
   "cell_type": "code",
   "execution_count": 5,
   "metadata": {
    "ExecuteTime": {
     "end_time": "2021-08-13T06:43:51.649033Z",
     "start_time": "2021-08-13T06:43:51.627093Z"
    },
    "hidden": true
   },
   "outputs": [
    {
     "name": "stdout",
     "output_type": "stream",
     "text": [
      "data_airport shape (30669, 20)\n"
     ]
    },
    {
     "data": {
      "text/html": [
       "<div>\n",
       "<style scoped>\n",
       "    .dataframe tbody tr th:only-of-type {\n",
       "        vertical-align: middle;\n",
       "    }\n",
       "\n",
       "    .dataframe tbody tr th {\n",
       "        vertical-align: top;\n",
       "    }\n",
       "\n",
       "    .dataframe thead th {\n",
       "        text-align: right;\n",
       "    }\n",
       "</style>\n",
       "<table border=\"1\" class=\"dataframe\">\n",
       "  <thead>\n",
       "    <tr style=\"text-align: right;\">\n",
       "      <th></th>\n",
       "      <th>Detection Time</th>\n",
       "      <th>Aeroscope ID</th>\n",
       "      <th>Drone Type</th>\n",
       "      <th>Drone ID</th>\n",
       "      <th>Flight ID</th>\n",
       "      <th>Latitude</th>\n",
       "      <th>Longitude</th>\n",
       "      <th>Speed</th>\n",
       "      <th>Altitude</th>\n",
       "      <th>Northward Speed</th>\n",
       "      <th>Eastward Speed</th>\n",
       "      <th>Ascending Speed</th>\n",
       "      <th>Altitude/Height</th>\n",
       "      <th>Roll</th>\n",
       "      <th>Pitch</th>\n",
       "      <th>Yaw</th>\n",
       "      <th>Home Longitude</th>\n",
       "      <th>Home Latitude</th>\n",
       "      <th>Pilot Longitude</th>\n",
       "      <th>Pilot Latitude</th>\n",
       "    </tr>\n",
       "  </thead>\n",
       "  <tbody>\n",
       "    <tr>\n",
       "      <th>0</th>\n",
       "      <td>2020-03-31 21:23:36</td>\n",
       "      <td>0QRDG810030067</td>\n",
       "      <td>Mavic Pro</td>\n",
       "      <td>08RDE9N00102SS</td>\n",
       "      <td>eb18b48d-b92a-4768-9449-4a9e8f7a3d8e</td>\n",
       "      <td>29.684525</td>\n",
       "      <td>-95.190142</td>\n",
       "      <td>14.347104</td>\n",
       "      <td>119.4</td>\n",
       "      <td>-2.37</td>\n",
       "      <td>-14.15</td>\n",
       "      <td>0</td>\n",
       "      <td>0</td>\n",
       "      <td>0.0</td>\n",
       "      <td>0.0</td>\n",
       "      <td>84.78</td>\n",
       "      <td>-95.191672</td>\n",
       "      <td>29.681099</td>\n",
       "      <td>-95.191770</td>\n",
       "      <td>29.681128</td>\n",
       "    </tr>\n",
       "    <tr>\n",
       "      <th>1</th>\n",
       "      <td>2020-03-31 21:23:30</td>\n",
       "      <td>0QRDG810030067</td>\n",
       "      <td>Mavic Pro</td>\n",
       "      <td>08RDE9N00102SS</td>\n",
       "      <td>eb18b48d-b92a-4768-9449-4a9e8f7a3d8e</td>\n",
       "      <td>29.684657</td>\n",
       "      <td>-95.189151</td>\n",
       "      <td>15.897553</td>\n",
       "      <td>119.3</td>\n",
       "      <td>-3.01</td>\n",
       "      <td>-15.61</td>\n",
       "      <td>0</td>\n",
       "      <td>0</td>\n",
       "      <td>0.0</td>\n",
       "      <td>0.0</td>\n",
       "      <td>81.99</td>\n",
       "      <td>-95.191672</td>\n",
       "      <td>29.681099</td>\n",
       "      <td>-95.191770</td>\n",
       "      <td>29.681128</td>\n",
       "    </tr>\n",
       "    <tr>\n",
       "      <th>2</th>\n",
       "      <td>2020-03-31 21:23:16</td>\n",
       "      <td>0QRDG810030067</td>\n",
       "      <td>Mavic Pro</td>\n",
       "      <td>08RDE9N00102SS</td>\n",
       "      <td>eb18b48d-b92a-4768-9449-4a9e8f7a3d8e</td>\n",
       "      <td>29.684943</td>\n",
       "      <td>-95.188544</td>\n",
       "      <td>14.563602</td>\n",
       "      <td>119.6</td>\n",
       "      <td>-11.52</td>\n",
       "      <td>-8.91</td>\n",
       "      <td>0</td>\n",
       "      <td>0</td>\n",
       "      <td>0.0</td>\n",
       "      <td>0.0</td>\n",
       "      <td>37.40</td>\n",
       "      <td>-95.191672</td>\n",
       "      <td>29.681099</td>\n",
       "      <td>-95.191775</td>\n",
       "      <td>29.681139</td>\n",
       "    </tr>\n",
       "    <tr>\n",
       "      <th>3</th>\n",
       "      <td>2020-03-31 21:22:56</td>\n",
       "      <td>0QRDG810030067</td>\n",
       "      <td>Mavic Pro</td>\n",
       "      <td>08RDE9N00102SS</td>\n",
       "      <td>eb18b48d-b92a-4768-9449-4a9e8f7a3d8e</td>\n",
       "      <td>29.685052</td>\n",
       "      <td>-95.189140</td>\n",
       "      <td>9.074365</td>\n",
       "      <td>122.5</td>\n",
       "      <td>3.04</td>\n",
       "      <td>8.55</td>\n",
       "      <td>0</td>\n",
       "      <td>0</td>\n",
       "      <td>0.0</td>\n",
       "      <td>0.0</td>\n",
       "      <td>242.45</td>\n",
       "      <td>-95.191672</td>\n",
       "      <td>29.681099</td>\n",
       "      <td>-95.191770</td>\n",
       "      <td>29.681139</td>\n",
       "    </tr>\n",
       "    <tr>\n",
       "      <th>4</th>\n",
       "      <td>2020-03-31 21:22:43</td>\n",
       "      <td>0QRDG810030067</td>\n",
       "      <td>Mavic Pro</td>\n",
       "      <td>08RDE9N00102SS</td>\n",
       "      <td>eb18b48d-b92a-4768-9449-4a9e8f7a3d8e</td>\n",
       "      <td>29.684680</td>\n",
       "      <td>-95.190211</td>\n",
       "      <td>10.414807</td>\n",
       "      <td>86.2</td>\n",
       "      <td>5.71</td>\n",
       "      <td>8.71</td>\n",
       "      <td>0</td>\n",
       "      <td>0</td>\n",
       "      <td>0.0</td>\n",
       "      <td>0.0</td>\n",
       "      <td>239.52</td>\n",
       "      <td>-95.191672</td>\n",
       "      <td>29.681099</td>\n",
       "      <td>-95.191770</td>\n",
       "      <td>29.681139</td>\n",
       "    </tr>\n",
       "  </tbody>\n",
       "</table>\n",
       "</div>"
      ],
      "text/plain": [
       "        Detection Time    Aeroscope ID Drone Type        Drone ID  \\\n",
       "0  2020-03-31 21:23:36  0QRDG810030067  Mavic Pro  08RDE9N00102SS   \n",
       "1  2020-03-31 21:23:30  0QRDG810030067  Mavic Pro  08RDE9N00102SS   \n",
       "2  2020-03-31 21:23:16  0QRDG810030067  Mavic Pro  08RDE9N00102SS   \n",
       "3  2020-03-31 21:22:56  0QRDG810030067  Mavic Pro  08RDE9N00102SS   \n",
       "4  2020-03-31 21:22:43  0QRDG810030067  Mavic Pro  08RDE9N00102SS   \n",
       "\n",
       "                              Flight ID   Latitude  Longitude      Speed  \\\n",
       "0  eb18b48d-b92a-4768-9449-4a9e8f7a3d8e  29.684525 -95.190142  14.347104   \n",
       "1  eb18b48d-b92a-4768-9449-4a9e8f7a3d8e  29.684657 -95.189151  15.897553   \n",
       "2  eb18b48d-b92a-4768-9449-4a9e8f7a3d8e  29.684943 -95.188544  14.563602   \n",
       "3  eb18b48d-b92a-4768-9449-4a9e8f7a3d8e  29.685052 -95.189140   9.074365   \n",
       "4  eb18b48d-b92a-4768-9449-4a9e8f7a3d8e  29.684680 -95.190211  10.414807   \n",
       "\n",
       "   Altitude  Northward Speed  Eastward Speed  Ascending Speed  \\\n",
       "0     119.4            -2.37          -14.15                0   \n",
       "1     119.3            -3.01          -15.61                0   \n",
       "2     119.6           -11.52           -8.91                0   \n",
       "3     122.5             3.04            8.55                0   \n",
       "4      86.2             5.71            8.71                0   \n",
       "\n",
       "   Altitude/Height  Roll  Pitch     Yaw  Home Longitude  Home Latitude  \\\n",
       "0                0   0.0    0.0   84.78      -95.191672      29.681099   \n",
       "1                0   0.0    0.0   81.99      -95.191672      29.681099   \n",
       "2                0   0.0    0.0   37.40      -95.191672      29.681099   \n",
       "3                0   0.0    0.0  242.45      -95.191672      29.681099   \n",
       "4                0   0.0    0.0  239.52      -95.191672      29.681099   \n",
       "\n",
       "   Pilot Longitude  Pilot Latitude  \n",
       "0       -95.191770       29.681128  \n",
       "1       -95.191770       29.681128  \n",
       "2       -95.191775       29.681139  \n",
       "3       -95.191770       29.681139  \n",
       "4       -95.191770       29.681139  "
      ]
     },
     "metadata": {},
     "output_type": "display_data"
    },
    {
     "name": "stdout",
     "output_type": "stream",
     "text": [
      "data_drone shape (56, 3)\n"
     ]
    },
    {
     "data": {
      "text/html": [
       "<div>\n",
       "<style scoped>\n",
       "    .dataframe tbody tr th:only-of-type {\n",
       "        vertical-align: middle;\n",
       "    }\n",
       "\n",
       "    .dataframe tbody tr th {\n",
       "        vertical-align: top;\n",
       "    }\n",
       "\n",
       "    .dataframe thead th {\n",
       "        text-align: right;\n",
       "    }\n",
       "</style>\n",
       "<table border=\"1\" class=\"dataframe\">\n",
       "  <thead>\n",
       "    <tr style=\"text-align: right;\">\n",
       "      <th></th>\n",
       "      <th>Product type</th>\n",
       "      <th>Drone name</th>\n",
       "      <th>Payload Capacity</th>\n",
       "    </tr>\n",
       "  </thead>\n",
       "  <tbody>\n",
       "    <tr>\n",
       "      <th>0</th>\n",
       "      <td>0</td>\n",
       "      <td>unknown</td>\n",
       "      <td>NaN</td>\n",
       "    </tr>\n",
       "    <tr>\n",
       "      <th>1</th>\n",
       "      <td>1</td>\n",
       "      <td>Inspire 1</td>\n",
       "      <td>3.4 kg</td>\n",
       "    </tr>\n",
       "    <tr>\n",
       "      <th>2</th>\n",
       "      <td>2</td>\n",
       "      <td>P3P</td>\n",
       "      <td>1 kg</td>\n",
       "    </tr>\n",
       "    <tr>\n",
       "      <th>3</th>\n",
       "      <td>3</td>\n",
       "      <td>P3A</td>\n",
       "      <td>1.2 kg</td>\n",
       "    </tr>\n",
       "    <tr>\n",
       "      <th>4</th>\n",
       "      <td>4</td>\n",
       "      <td>P3S</td>\n",
       "      <td>1.6 kg</td>\n",
       "    </tr>\n",
       "  </tbody>\n",
       "</table>\n",
       "</div>"
      ],
      "text/plain": [
       "   Product type Drone name Payload Capacity\n",
       "0             0    unknown              NaN\n",
       "1             1  Inspire 1           3.4 kg\n",
       "2             2        P3P             1 kg\n",
       "3             3        P3A           1.2 kg\n",
       "4             4        P3S           1.6 kg"
      ]
     },
     "metadata": {},
     "output_type": "display_data"
    }
   ],
   "source": [
    "print(\"data_airport shape\",data_airport.shape)\n",
    "display(data_airport.head())\n",
    "print(\"data_drone shape\",data_drones_model.shape)\n",
    "display(data_drones_model.head())"
   ]
  },
  {
   "cell_type": "markdown",
   "metadata": {},
   "source": [
    "# Train of Thoughts "
   ]
  },
  {
   "cell_type": "markdown",
   "metadata": {},
   "source": [
    "&#9680; As we can observe the data with drones detection @ a certain US airport consist of geo-spatial information and other attributes.\n",
    "\n",
    "&#9680; I perceive this problem statement as a <span style=\"color:red\">**Risk Model**</span>.\n",
    "\n",
    "&#9680; I will model a Logistic Regression model for predicting the risk associated to each drone detection where detection with high risk would require to take preventive measure at the airport's end.\n",
    "\n",
    "&#9680; Primary Metric would be **\"Precision\"** as the model cannot afford to have high false positive rate because this will concur high cost @ business end and hence, model need to be very confident when predicting a detection as high risk event.\n",
    "\n",
    "&#9680; Secondary Metric would be **F1-Score** such that we have a stable model.\n",
    "\n",
    "&#9680; Response variable needs to be calculated based on the below logic :\n",
    "\n",
    "    - Distance between the drone and the plane if it is > than a threshold we mark it as 1  else 0\n",
    "    - 1 signifies **Threat** 0 means **No Threat**"
   ]
  },
  {
   "cell_type": "markdown",
   "metadata": {},
   "source": [
    "# Assumptions"
   ]
  },
  {
   "cell_type": "markdown",
   "metadata": {},
   "source": [
    "&#9680; Drone related information are under the following columns :\n",
    "    \n",
    "    - Detection Time\n",
    "    - Drone Type\n",
    "    - Latitude || Longitude || Altitude\n",
    "    - Speed\n",
    "    - Home Longitude || Home Latitude (are the information of drone's starting point)\n",
    "\n",
    "&#9680; Airplane related information are under the following columns :\n",
    "\n",
    "    - Northward Speed\n",
    "    - Eastward Speed\n",
    "    - Ascending Speed\n",
    "    - Altitude/Height\n",
    "    - Roll\n",
    "    - Pitch\n",
    "    - Yaw\n",
    "    - Pilot Longitude || Pilot Latitude\n",
    "\n",
    "&#9680; For missing values in Pilot's Longitude and Latitude value I assume that the plane is still in the hanger and has not let the ground || is still on the run-way.\n",
    "\n",
    "&#9680; Distance values are on the same scale"
   ]
  },
  {
   "cell_type": "markdown",
   "metadata": {},
   "source": [
    "# Data Understanding"
   ]
  },
  {
   "cell_type": "markdown",
   "metadata": {},
   "source": [
    "## Data Pre-Processing "
   ]
  },
  {
   "cell_type": "markdown",
   "metadata": {
    "heading_collapsed": true
   },
   "source": [
    "### Analysis "
   ]
  },
  {
   "cell_type": "code",
   "execution_count": 99,
   "metadata": {
    "ExecuteTime": {
     "end_time": "2021-08-13T10:59:39.778750Z",
     "start_time": "2021-08-13T10:59:39.726593Z"
    },
    "hidden": true
   },
   "outputs": [
    {
     "data": {
      "text/plain": [
       "(1961, 27)"
      ]
     },
     "execution_count": 99,
     "metadata": {},
     "output_type": "execute_result"
    }
   ],
   "source": [
    "data_airport[data_airport.duplicated()].shape"
   ]
  },
  {
   "cell_type": "code",
   "execution_count": 100,
   "metadata": {
    "ExecuteTime": {
     "end_time": "2021-08-13T11:00:19.687009Z",
     "start_time": "2021-08-13T11:00:19.643199Z"
    },
    "hidden": true
   },
   "outputs": [
    {
     "data": {
      "text/plain": [
       "6.396998858261295"
      ]
     },
     "execution_count": 100,
     "metadata": {},
     "output_type": "execute_result"
    }
   ],
   "source": [
    "(data_airport[data_airport.duplicated()].shape[0]/data_airport.shape[0])*100"
   ]
  },
  {
   "cell_type": "code",
   "execution_count": 11,
   "metadata": {
    "ExecuteTime": {
     "end_time": "2021-08-13T07:34:55.351623Z",
     "start_time": "2021-08-13T07:34:55.325734Z"
    },
    "hidden": true
   },
   "outputs": [
    {
     "data": {
      "text/plain": [
       "Detection Time      0\n",
       "Aeroscope ID        0\n",
       "Drone Type          0\n",
       "Drone ID            0\n",
       "Flight ID           0\n",
       "Latitude            0\n",
       "Longitude           0\n",
       "Speed               0\n",
       "Altitude            0\n",
       "Northward Speed     0\n",
       "Eastward Speed      0\n",
       "Ascending Speed     0\n",
       "Altitude/Height     0\n",
       "Roll                0\n",
       "Pitch               0\n",
       "Yaw                 0\n",
       "Home Longitude      0\n",
       "Home Latitude       0\n",
       "Pilot Longitude    14\n",
       "Pilot Latitude     14\n",
       "dtype: int64"
      ]
     },
     "execution_count": 11,
     "metadata": {},
     "output_type": "execute_result"
    }
   ],
   "source": [
    "data_airport.isnull().sum()"
   ]
  },
  {
   "cell_type": "code",
   "execution_count": 14,
   "metadata": {
    "ExecuteTime": {
     "end_time": "2021-08-13T07:36:07.697630Z",
     "start_time": "2021-08-13T07:36:07.674691Z"
    },
    "hidden": true
   },
   "outputs": [],
   "source": [
    "data_airport.dropna(inplace=True)"
   ]
  },
  {
   "cell_type": "code",
   "execution_count": 32,
   "metadata": {
    "ExecuteTime": {
     "end_time": "2021-08-13T08:00:38.722131Z",
     "start_time": "2021-08-13T08:00:38.581507Z"
    },
    "hidden": true
   },
   "outputs": [
    {
     "data": {
      "text/plain": [
       "<AxesSubplot:>"
      ]
     },
     "execution_count": 32,
     "metadata": {},
     "output_type": "execute_result"
    },
    {
     "data": {
      "image/png": "[encoded data removed]",
      "text/plain": [
       "<Figure size 1440x504 with 1 Axes>"
      ]
     },
     "metadata": {
      "needs_background": "light"
     },
     "output_type": "display_data"
    }
   ],
   "source": [
    "data_airport['Drone Type'].fillna('missing').value_counts(normalize=True).plot(kind='bar',figsize=(20,7))"
   ]
  },
  {
   "cell_type": "code",
   "execution_count": 26,
   "metadata": {
    "ExecuteTime": {
     "end_time": "2021-08-13T07:53:16.877720Z",
     "start_time": "2021-08-13T07:53:16.834733Z"
    },
    "hidden": true
   },
   "outputs": [],
   "source": [
    "data_airport = pd.merge(data_airport,\n",
    "                        data_drones_model,\n",
    "                        left_on='Drone Type',\n",
    "                        right_on='Drone name',\n",
    "                        how='left',\n",
    "                        indicator=True)"
   ]
  },
  {
   "cell_type": "code",
   "execution_count": 27,
   "metadata": {
    "ExecuteTime": {
     "end_time": "2021-08-13T07:53:20.191022Z",
     "start_time": "2021-08-13T07:53:20.185040Z"
    },
    "hidden": true
   },
   "outputs": [
    {
     "data": {
      "text/plain": [
       "(30655, 24)"
      ]
     },
     "execution_count": 27,
     "metadata": {},
     "output_type": "execute_result"
    }
   ],
   "source": [
    "data_airport.shape"
   ]
  },
  {
   "cell_type": "code",
   "execution_count": 30,
   "metadata": {
    "ExecuteTime": {
     "end_time": "2021-08-13T07:56:00.015811Z",
     "start_time": "2021-08-13T07:56:00.004849Z"
    },
    "hidden": true
   },
   "outputs": [
    {
     "data": {
      "text/plain": [
       "both          29557\n",
       "left_only      1098\n",
       "right_only        0\n",
       "Name: _merge, dtype: int64"
      ]
     },
     "execution_count": 30,
     "metadata": {},
     "output_type": "execute_result"
    }
   ],
   "source": [
    "data_airport._merge.value_counts()"
   ]
  },
  {
   "cell_type": "code",
   "execution_count": 38,
   "metadata": {
    "ExecuteTime": {
     "end_time": "2021-08-13T08:22:31.030637Z",
     "start_time": "2021-08-13T08:22:31.000711Z"
    },
    "hidden": true
   },
   "outputs": [
    {
     "data": {
      "text/plain": [
       "Detection Time         0\n",
       "Aeroscope ID           0\n",
       "Drone Type             0\n",
       "Drone ID               0\n",
       "Flight ID              0\n",
       "Latitude               0\n",
       "Longitude              0\n",
       "Speed                  0\n",
       "Altitude               0\n",
       "Northward Speed        0\n",
       "Eastward Speed         0\n",
       "Ascending Speed        0\n",
       "Altitude/Height        0\n",
       "Roll                   0\n",
       "Pitch                  0\n",
       "Yaw                    0\n",
       "Home Longitude         0\n",
       "Home Latitude          0\n",
       "Pilot Longitude        0\n",
       "Pilot Latitude         0\n",
       "Product type        1098\n",
       "Drone name          1098\n",
       "Payload Capacity       0\n",
       "_merge                 0\n",
       "dtype: int64"
      ]
     },
     "execution_count": 38,
     "metadata": {},
     "output_type": "execute_result"
    }
   ],
   "source": [
    "data_airport.isnull().sum()"
   ]
  },
  {
   "cell_type": "code",
   "execution_count": 33,
   "metadata": {
    "ExecuteTime": {
     "end_time": "2021-08-13T08:01:33.822010Z",
     "start_time": "2021-08-13T08:01:33.803062Z"
    },
    "hidden": true
   },
   "outputs": [
    {
     "data": {
      "text/plain": [
       "Mavic Mini            0.349535\n",
       "Mavic 2               0.267232\n",
       "Mavic Pro             0.191355\n",
       "M200 V2               0.099266\n",
       "Mavic 2 Enterprise    0.040679\n",
       "Phantom 4 Pro V2.0    0.013929\n",
       "Phantom 3 Standard    0.010961\n",
       "Mavic Air             0.010210\n",
       "Phantom 4 RTK         0.010015\n",
       "Inspire 2             0.005643\n",
       "unknow                0.000750\n",
       "Spark                 0.000261\n",
       "Phantom 4 Pro         0.000163\n",
       "Name: Drone Type, dtype: float64"
      ]
     },
     "execution_count": 33,
     "metadata": {},
     "output_type": "execute_result"
    }
   ],
   "source": [
    "data_airport['Drone Type'].fillna('missing').value_counts(normalize=True)"
   ]
  },
  {
   "cell_type": "code",
   "execution_count": 36,
   "metadata": {
    "ExecuteTime": {
     "end_time": "2021-08-13T08:22:14.422082Z",
     "start_time": "2021-08-13T08:22:14.404131Z"
    },
    "hidden": true
   },
   "outputs": [],
   "source": [
    "data_airport['Drone Type'].replace(\"unknow\",\"unknown\",inplace=True)\n",
    "data_airport['Payload Capacity'].fillna(-99,inplace=True)"
   ]
  },
  {
   "cell_type": "code",
   "execution_count": 37,
   "metadata": {
    "ExecuteTime": {
     "end_time": "2021-08-13T08:22:25.214457Z",
     "start_time": "2021-08-13T08:22:25.193514Z"
    },
    "hidden": true
   },
   "outputs": [
    {
     "data": {
      "text/plain": [
       "Phantom 4 Pro V2.0    427\n",
       "Phantom 3 Standard    336\n",
       "Phantom 4 RTK         307\n",
       "unknown                23\n",
       "Phantom 4 Pro           5\n",
       "Name: Drone Type, dtype: int64"
      ]
     },
     "execution_count": 37,
     "metadata": {},
     "output_type": "execute_result"
    }
   ],
   "source": [
    "data_airport[data_airport._merge=='left_only']['Drone Type'].value_counts()"
   ]
  },
  {
   "cell_type": "code",
   "execution_count": 48,
   "metadata": {
    "ExecuteTime": {
     "end_time": "2021-08-13T08:32:38.253045Z",
     "start_time": "2021-08-13T08:32:38.233098Z"
    },
    "hidden": true
   },
   "outputs": [
    {
     "data": {
      "text/plain": [
       "Detection Time        object\n",
       "Aeroscope ID          object\n",
       "Drone Type            object\n",
       "Drone ID              object\n",
       "Flight ID             object\n",
       "Latitude             float64\n",
       "Longitude            float64\n",
       "Speed                float64\n",
       "Altitude             float64\n",
       "Northward Speed      float64\n",
       "Eastward Speed       float64\n",
       "Ascending Speed        int64\n",
       "Altitude/Height        int64\n",
       "Roll                 float64\n",
       "Pitch                float64\n",
       "Yaw                  float64\n",
       "Home Longitude       float64\n",
       "Home Latitude        float64\n",
       "Pilot Longitude      float64\n",
       "Pilot Latitude       float64\n",
       "Product type         float64\n",
       "Drone name            object\n",
       "Payload Capacity      object\n",
       "_merge              category\n",
       "dtype: object"
      ]
     },
     "execution_count": 48,
     "metadata": {},
     "output_type": "execute_result"
    }
   ],
   "source": [
    "data_airport.dtypes"
   ]
  },
  {
   "cell_type": "code",
   "execution_count": 49,
   "metadata": {
    "ExecuteTime": {
     "end_time": "2021-08-13T08:32:53.686854Z",
     "start_time": "2021-08-13T08:32:53.677881Z"
    },
    "hidden": true
   },
   "outputs": [
    {
     "data": {
      "text/plain": [
       "Index(['Latitude', 'Longitude', 'Speed', 'Altitude', 'Northward Speed',\n",
       "       'Eastward Speed', 'Roll', 'Pitch', 'Yaw', 'Home Longitude',\n",
       "       'Home Latitude', 'Pilot Longitude', 'Pilot Latitude', 'Product type'],\n",
       "      dtype='object')"
      ]
     },
     "execution_count": 49,
     "metadata": {},
     "output_type": "execute_result"
    }
   ],
   "source": [
    "data_airport.select_dtypes('float').columns"
   ]
  },
  {
   "cell_type": "code",
   "execution_count": 43,
   "metadata": {
    "ExecuteTime": {
     "end_time": "2021-08-13T08:28:43.543342Z",
     "start_time": "2021-08-13T08:28:43.489959Z"
    },
    "hidden": true
   },
   "outputs": [
    {
     "data": {
      "text/html": [
       "<div>\n",
       "<style scoped>\n",
       "    .dataframe tbody tr th:only-of-type {\n",
       "        vertical-align: middle;\n",
       "    }\n",
       "\n",
       "    .dataframe tbody tr th {\n",
       "        vertical-align: top;\n",
       "    }\n",
       "\n",
       "    .dataframe thead th {\n",
       "        text-align: right;\n",
       "    }\n",
       "</style>\n",
       "<table border=\"1\" class=\"dataframe\">\n",
       "  <thead>\n",
       "    <tr style=\"text-align: right;\">\n",
       "      <th></th>\n",
       "      <th>Latitude</th>\n",
       "      <th>Longitude</th>\n",
       "      <th>Speed</th>\n",
       "      <th>Altitude</th>\n",
       "      <th>Northward Speed</th>\n",
       "      <th>Eastward Speed</th>\n",
       "      <th>Roll</th>\n",
       "      <th>Pitch</th>\n",
       "      <th>Yaw</th>\n",
       "      <th>Home Longitude</th>\n",
       "      <th>Home Latitude</th>\n",
       "      <th>Pilot Longitude</th>\n",
       "      <th>Pilot Latitude</th>\n",
       "      <th>Product type</th>\n",
       "    </tr>\n",
       "  </thead>\n",
       "  <tbody>\n",
       "    <tr>\n",
       "      <th>count</th>\n",
       "      <td>30655.000000</td>\n",
       "      <td>30655.000000</td>\n",
       "      <td>30655.000000</td>\n",
       "      <td>30655.000000</td>\n",
       "      <td>30655.000000</td>\n",
       "      <td>30655.000000</td>\n",
       "      <td>30655.000000</td>\n",
       "      <td>30655.000000</td>\n",
       "      <td>30655.000000</td>\n",
       "      <td>30655.000000</td>\n",
       "      <td>30655.000000</td>\n",
       "      <td>30655.000000</td>\n",
       "      <td>30655.000000</td>\n",
       "      <td>29557.000000</td>\n",
       "    </tr>\n",
       "    <tr>\n",
       "      <th>mean</th>\n",
       "      <td>29.661121</td>\n",
       "      <td>-95.024241</td>\n",
       "      <td>3.380757</td>\n",
       "      <td>56.071992</td>\n",
       "      <td>0.091097</td>\n",
       "      <td>-0.102916</td>\n",
       "      <td>0.006364</td>\n",
       "      <td>-0.055450</td>\n",
       "      <td>178.565042</td>\n",
       "      <td>-93.965770</td>\n",
       "      <td>29.330855</td>\n",
       "      <td>-42.609095</td>\n",
       "      <td>19.841712</td>\n",
       "      <td>40.793484</td>\n",
       "    </tr>\n",
       "    <tr>\n",
       "      <th>std</th>\n",
       "      <td>0.944430</td>\n",
       "      <td>3.023748</td>\n",
       "      <td>4.504601</td>\n",
       "      <td>50.228737</td>\n",
       "      <td>3.447946</td>\n",
       "      <td>4.451303</td>\n",
       "      <td>0.836558</td>\n",
       "      <td>1.304966</td>\n",
       "      <td>102.443964</td>\n",
       "      <td>10.414861</td>\n",
       "      <td>3.251109</td>\n",
       "      <td>47.308435</td>\n",
       "      <td>13.975576</td>\n",
       "      <td>13.707377</td>\n",
       "    </tr>\n",
       "    <tr>\n",
       "      <th>min</th>\n",
       "      <td>0.000000</td>\n",
       "      <td>-95.430848</td>\n",
       "      <td>0.000000</td>\n",
       "      <td>-2.300000</td>\n",
       "      <td>-18.050000</td>\n",
       "      <td>-22.490000</td>\n",
       "      <td>-18.620000</td>\n",
       "      <td>-30.120000</td>\n",
       "      <td>0.010000</td>\n",
       "      <td>-95.432395</td>\n",
       "      <td>0.000000</td>\n",
       "      <td>-95.418203</td>\n",
       "      <td>0.000000</td>\n",
       "      <td>16.000000</td>\n",
       "    </tr>\n",
       "    <tr>\n",
       "      <th>25%</th>\n",
       "      <td>29.671846</td>\n",
       "      <td>-95.145068</td>\n",
       "      <td>0.070711</td>\n",
       "      <td>24.900000</td>\n",
       "      <td>-0.160000</td>\n",
       "      <td>-0.270000</td>\n",
       "      <td>0.000000</td>\n",
       "      <td>0.000000</td>\n",
       "      <td>89.860000</td>\n",
       "      <td>-95.145234</td>\n",
       "      <td>29.666603</td>\n",
       "      <td>-95.127449</td>\n",
       "      <td>0.000000</td>\n",
       "      <td>41.000000</td>\n",
       "    </tr>\n",
       "    <tr>\n",
       "      <th>50%</th>\n",
       "      <td>29.695589</td>\n",
       "      <td>-95.121491</td>\n",
       "      <td>1.136354</td>\n",
       "      <td>40.100000</td>\n",
       "      <td>0.000000</td>\n",
       "      <td>0.000000</td>\n",
       "      <td>0.000000</td>\n",
       "      <td>0.000000</td>\n",
       "      <td>179.100000</td>\n",
       "      <td>-95.120998</td>\n",
       "      <td>29.695606</td>\n",
       "      <td>0.000000</td>\n",
       "      <td>29.665360</td>\n",
       "      <td>44.000000</td>\n",
       "    </tr>\n",
       "    <tr>\n",
       "      <th>75%</th>\n",
       "      <td>29.702550</td>\n",
       "      <td>-95.092545</td>\n",
       "      <td>5.308738</td>\n",
       "      <td>72.400000</td>\n",
       "      <td>0.200000</td>\n",
       "      <td>0.140000</td>\n",
       "      <td>0.000000</td>\n",
       "      <td>0.000000</td>\n",
       "      <td>266.870000</td>\n",
       "      <td>-95.092115</td>\n",
       "      <td>29.702556</td>\n",
       "      <td>0.000000</td>\n",
       "      <td>29.697463</td>\n",
       "      <td>53.000000</td>\n",
       "    </tr>\n",
       "    <tr>\n",
       "      <th>max</th>\n",
       "      <td>29.929361</td>\n",
       "      <td>0.000000</td>\n",
       "      <td>27.697628</td>\n",
       "      <td>499.000000</td>\n",
       "      <td>27.690000</td>\n",
       "      <td>21.630000</td>\n",
       "      <td>25.030000</td>\n",
       "      <td>22.220000</td>\n",
       "      <td>359.990000</td>\n",
       "      <td>0.000000</td>\n",
       "      <td>29.929281</td>\n",
       "      <td>0.000000</td>\n",
       "      <td>29.830750</td>\n",
       "      <td>53.000000</td>\n",
       "    </tr>\n",
       "  </tbody>\n",
       "</table>\n",
       "</div>"
      ],
      "text/plain": [
       "           Latitude     Longitude         Speed      Altitude  \\\n",
       "count  30655.000000  30655.000000  30655.000000  30655.000000   \n",
       "mean      29.661121    -95.024241      3.380757     56.071992   \n",
       "std        0.944430      3.023748      4.504601     50.228737   \n",
       "min        0.000000    -95.430848      0.000000     -2.300000   \n",
       "25%       29.671846    -95.145068      0.070711     24.900000   \n",
       "50%       29.695589    -95.121491      1.136354     40.100000   \n",
       "75%       29.702550    -95.092545      5.308738     72.400000   \n",
       "max       29.929361      0.000000     27.697628    499.000000   \n",
       "\n",
       "       Northward Speed  Eastward Speed          Roll         Pitch  \\\n",
       "count     30655.000000    30655.000000  30655.000000  30655.000000   \n",
       "mean          0.091097       -0.102916      0.006364     -0.055450   \n",
       "std           3.447946        4.451303      0.836558      1.304966   \n",
       "min         -18.050000      -22.490000    -18.620000    -30.120000   \n",
       "25%          -0.160000       -0.270000      0.000000      0.000000   \n",
       "50%           0.000000        0.000000      0.000000      0.000000   \n",
       "75%           0.200000        0.140000      0.000000      0.000000   \n",
       "max          27.690000       21.630000     25.030000     22.220000   \n",
       "\n",
       "                Yaw  Home Longitude  Home Latitude  Pilot Longitude  \\\n",
       "count  30655.000000    30655.000000   30655.000000     30655.000000   \n",
       "mean     178.565042      -93.965770      29.330855       -42.609095   \n",
       "std      102.443964       10.414861       3.251109        47.308435   \n",
       "min        0.010000      -95.432395       0.000000       -95.418203   \n",
       "25%       89.860000      -95.145234      29.666603       -95.127449   \n",
       "50%      179.100000      -95.120998      29.695606         0.000000   \n",
       "75%      266.870000      -95.092115      29.702556         0.000000   \n",
       "max      359.990000        0.000000      29.929281         0.000000   \n",
       "\n",
       "       Pilot Latitude  Product type  \n",
       "count    30655.000000  29557.000000  \n",
       "mean        19.841712     40.793484  \n",
       "std         13.975576     13.707377  \n",
       "min          0.000000     16.000000  \n",
       "25%          0.000000     41.000000  \n",
       "50%         29.665360     44.000000  \n",
       "75%         29.697463     53.000000  \n",
       "max         29.830750     53.000000  "
      ]
     },
     "execution_count": 43,
     "metadata": {},
     "output_type": "execute_result"
    }
   ],
   "source": [
    "data_airport[data_airport.select_dtypes('float').columns].describe()"
   ]
  },
  {
   "cell_type": "code",
   "execution_count": 47,
   "metadata": {
    "ExecuteTime": {
     "end_time": "2021-08-13T08:30:45.799772Z",
     "start_time": "2021-08-13T08:30:45.262535Z"
    },
    "hidden": true
   },
   "outputs": [
    {
     "data": {
      "text/plain": [
       "<AxesSubplot:>"
      ]
     },
     "execution_count": 47,
     "metadata": {},
     "output_type": "execute_result"
    },
    {
     "data": {
      "image/png": "[encoded data removed]",
      "text/plain": [
       "<Figure size 1800x504 with 1 Axes>"
      ]
     },
     "metadata": {
      "needs_background": "light"
     },
     "output_type": "display_data"
    }
   ],
   "source": [
    "plt.figure(figsize=(25,7))\n",
    "sns.boxplot(data = data_airport[data_airport.select_dtypes('float').columns])"
   ]
  },
  {
   "cell_type": "markdown",
   "metadata": {},
   "source": [
    "### Pre-Processing Steps"
   ]
  },
  {
   "cell_type": "code",
   "execution_count": 52,
   "metadata": {
    "ExecuteTime": {
     "end_time": "2021-08-13T08:38:26.727628Z",
     "start_time": "2021-08-13T08:38:26.686508Z"
    }
   },
   "outputs": [],
   "source": [
    "data_airport = data_airport[~data_airport.duplicated()].copy(deep=True)\n",
    "data_airport.dropna(inplace=True)\n",
    "data_airport['Drone Type'].replace(\"unknow\", \"unknown\", inplace=True)\n",
    "data_airport = pd.merge(data_airport,\n",
    "                        data_drones_model,\n",
    "                        left_on='Drone Type',\n",
    "                        right_on='Drone name',\n",
    "                        how='left',\n",
    "                        indicator=True)\n",
    "\n",
    "data_airport['Payload Capacity'].fillna(-99, inplace=True)\n",
    "data_airport['Detection Time'] = data_airport['Detection Time'].astype('datetime64[ns]')"
   ]
  },
  {
   "cell_type": "markdown",
   "metadata": {},
   "source": [
    "### Noted-Points "
   ]
  },
  {
   "cell_type": "markdown",
   "metadata": {},
   "source": [
    "    - ~ 6.4% records are duplicate I will drop them from analysis \n",
    "    - As, we can see there are 14 records (i.e. ~0.46%) for which the Pilot's longitude and latitude values are missing\n",
    "    - As, I have the business context missing I choose to drop them from my analysis.\n",
    "    - as we can see there is certainly a typo in the Drone Type columns as I expect the value to be \"Unknown\" but it is \n",
    "      miss-spelled as \"unknow\"\n",
    "    - for drones where we don't have the payload value I will replace it with -99 for the model to understand it as \n",
    "      separate category because intuitively it would mean more risk   \n",
    "    - also, the drone model table is not up-to date as there are some names in the current data but is missing from the \n",
    "      drone make and manufacture data \n",
    "    - we can see certain drone flying at higher altitudes "
   ]
  },
  {
   "cell_type": "markdown",
   "metadata": {
    "heading_collapsed": true
   },
   "source": [
    "## Exploratory Data Analysis "
   ]
  },
  {
   "cell_type": "markdown",
   "metadata": {
    "heading_collapsed": true,
    "hidden": true
   },
   "source": [
    "### Response Creation"
   ]
  },
  {
   "cell_type": "code",
   "execution_count": 56,
   "metadata": {
    "ExecuteTime": {
     "end_time": "2021-08-13T08:49:19.955879Z",
     "start_time": "2021-08-13T08:49:19.168623Z"
    },
    "hidden": true
   },
   "outputs": [
    {
     "data": {
      "application/vnd.jupyter.widget-view+json": {
       "model_id": "8e07d32504194385ae7eb793438970fb",
       "version_major": 2,
       "version_minor": 0
      },
      "text/plain": [
       "HBox(children=(HTML(value='Pandas Apply'), FloatProgress(value=0.0, max=30655.0), HTML(value='')))"
      ]
     },
     "metadata": {},
     "output_type": "display_data"
    },
    {
     "name": "stdout",
     "output_type": "stream",
     "text": [
      "\n"
     ]
    }
   ],
   "source": [
    "data_airport['great_circle_distance'] = data_airport[[\n",
    "    'Latitude', 'Longitude', 'Pilot Latitude', 'Pilot Longitude'\n",
    "]].swifter.apply(lambda x: haversine_array(x[0],x[1],x[2],x[3]),axis=1)"
   ]
  },
  {
   "cell_type": "code",
   "execution_count": 62,
   "metadata": {
    "ExecuteTime": {
     "end_time": "2021-08-13T08:54:03.277516Z",
     "start_time": "2021-08-13T08:54:03.134276Z"
    },
    "hidden": true
   },
   "outputs": [
    {
     "data": {
      "text/plain": [
       "<AxesSubplot:xlabel='great_circle_distance', ylabel='Count'>"
      ]
     },
     "execution_count": 62,
     "metadata": {},
     "output_type": "execute_result"
    },
    {
     "data": {
      "image/png": "[encoded data removed]",
      "text/plain": [
       "<Figure size 1440x360 with 1 Axes>"
      ]
     },
     "metadata": {
      "needs_background": "light"
     },
     "output_type": "display_data"
    }
   ],
   "source": [
    "plt.figure(figsize=(20,5))\n",
    "sns.histplot(data_airport['great_circle_distance'],bins=20)"
   ]
  },
  {
   "cell_type": "markdown",
   "metadata": {
    "hidden": true
   },
   "source": [
    "    - we can see as expected there are clear blob showing drones which are flying close to the aircraft posing high risk."
   ]
  },
  {
   "cell_type": "code",
   "execution_count": 68,
   "metadata": {
    "ExecuteTime": {
     "end_time": "2021-08-13T08:56:52.499445Z",
     "start_time": "2021-08-13T08:56:51.987981Z"
    },
    "hidden": true
   },
   "outputs": [
    {
     "data": {
      "application/vnd.jupyter.widget-view+json": {
       "model_id": "ab1eec39be7c47abb0f890603e070f7b",
       "version_major": 2,
       "version_minor": 0
      },
      "text/plain": [
       "HBox(children=(HTML(value='Pandas Apply'), FloatProgress(value=0.0, max=30655.0), HTML(value='')))"
      ]
     },
     "metadata": {},
     "output_type": "display_data"
    },
    {
     "name": "stdout",
     "output_type": "stream",
     "text": [
      "\n"
     ]
    },
    {
     "data": {
      "text/plain": [
       "<AxesSubplot:ylabel='Count'>"
      ]
     },
     "execution_count": 68,
     "metadata": {},
     "output_type": "execute_result"
    },
    {
     "data": {
      "image/png": "[encoded data removed]",
      "text/plain": [
       "<Figure size 1440x360 with 1 Axes>"
      ]
     },
     "metadata": {
      "needs_background": "light"
     },
     "output_type": "display_data"
    }
   ],
   "source": [
    "plt.figure(figsize=(20, 5))\n",
    "sns.histplot(data_airport[['Altitude', 'Altitude/Height'\n",
    "                           ]].swifter.apply(lambda x: abs(x[0] - x[1]),\n",
    "                                            axis=1))"
   ]
  },
  {
   "cell_type": "code",
   "execution_count": 69,
   "metadata": {
    "ExecuteTime": {
     "end_time": "2021-08-13T10:08:47.371218Z",
     "start_time": "2021-08-13T10:08:47.111912Z"
    },
    "hidden": true
   },
   "outputs": [
    {
     "data": {
      "application/vnd.jupyter.widget-view+json": {
       "model_id": "c4ed4f6bd9be4bf2bf9151373b8391e7",
       "version_major": 2,
       "version_minor": 0
      },
      "text/plain": [
       "HBox(children=(HTML(value='Pandas Apply'), FloatProgress(value=0.0, max=30655.0), HTML(value='')))"
      ]
     },
     "metadata": {},
     "output_type": "display_data"
    },
    {
     "name": "stdout",
     "output_type": "stream",
     "text": [
      "\n"
     ]
    }
   ],
   "source": [
    "data_airport['absolute_altitude_difference'] = data_airport[['Altitude', 'Altitude/Height'\n",
    "                                                             ]].swifter.apply(lambda x: abs(x[0] - x[1]),\n",
    "                                                                              axis=1)"
   ]
  },
  {
   "cell_type": "code",
   "execution_count": 70,
   "metadata": {
    "ExecuteTime": {
     "end_time": "2021-08-13T10:10:28.274916Z",
     "start_time": "2021-08-13T10:10:28.181168Z"
    },
    "hidden": true
   },
   "outputs": [
    {
     "data": {
      "text/plain": [
       "<AxesSubplot:>"
      ]
     },
     "execution_count": 70,
     "metadata": {},
     "output_type": "execute_result"
    },
    {
     "data": {
      "image/png": "[encoded data removed]",
      "text/plain": [
       "<Figure size 1440x360 with 1 Axes>"
      ]
     },
     "metadata": {
      "needs_background": "light"
     },
     "output_type": "display_data"
    }
   ],
   "source": [
    "data_airport[['great_circle_distance','absolute_altitude_difference']].plot(kind='box',figsize=(20,5))"
   ]
  },
  {
   "cell_type": "code",
   "execution_count": 75,
   "metadata": {
    "ExecuteTime": {
     "end_time": "2021-08-13T10:14:47.550646Z",
     "start_time": "2021-08-13T10:14:47.112735Z"
    },
    "hidden": true
   },
   "outputs": [
    {
     "data": {
      "text/plain": [
       "0    23650\n",
       "1     7005\n",
       "dtype: int64"
      ]
     },
     "execution_count": 75,
     "metadata": {},
     "output_type": "execute_result"
    }
   ],
   "source": [
    "data_airport[['great_circle_distance', 'absolute_altitude_difference'\n",
    "              ]].apply(lambda x: 1 if (x[0] < 2000) & (x[1] < 50) else 0,\n",
    "                       axis=1).value_counts()"
   ]
  },
  {
   "cell_type": "code",
   "execution_count": 86,
   "metadata": {
    "ExecuteTime": {
     "end_time": "2021-08-13T10:47:01.058320Z",
     "start_time": "2021-08-13T10:47:00.864382Z"
    },
    "hidden": true
   },
   "outputs": [],
   "source": [
    "data_airport['Target'] = data_airport[[\n",
    "    'great_circle_distance', 'absolute_altitude_difference'\n",
    "]].apply(lambda x: 1 if (x[0] <= 2000) & (x[1] <= 50) else 0, axis=1)"
   ]
  },
  {
   "cell_type": "code",
   "execution_count": 87,
   "metadata": {
    "ExecuteTime": {
     "end_time": "2021-08-13T10:47:14.715596Z",
     "start_time": "2021-08-13T10:47:14.697644Z"
    },
    "hidden": true
   },
   "outputs": [
    {
     "data": {
      "text/plain": [
       "0    23636\n",
       "1     7019\n",
       "Name: Target, dtype: int64"
      ]
     },
     "execution_count": 87,
     "metadata": {},
     "output_type": "execute_result"
    }
   ],
   "source": [
    "data_airport['Target'].value_counts()"
   ]
  },
  {
   "cell_type": "markdown",
   "metadata": {
    "hidden": true
   },
   "source": [
    "    - I will tag use the above condition to mark the label for each detection as 1 or 0 \n",
    "    - 1 corresponds to risk and 0 as no-risk\n",
    "    - Will train a model to predict the risk probability for un-seen drone detection\n",
    "    - I could introduce some noise in the labeling as we will be using these logic for labeling as features in the model, but for the shake of simplicity I will skip this."
   ]
  },
  {
   "cell_type": "markdown",
   "metadata": {
    "heading_collapsed": true,
    "hidden": true
   },
   "source": [
    "### Analysis for Potential Features || Pattern : (Uni-variate Analysis)"
   ]
  },
  {
   "cell_type": "code",
   "execution_count": 97,
   "metadata": {
    "ExecuteTime": {
     "end_time": "2021-08-13T10:55:26.212812Z",
     "start_time": "2021-08-13T10:55:26.014102Z"
    },
    "hidden": true
   },
   "outputs": [
    {
     "data": {
      "text/plain": [
       "<AxesSubplot:>"
      ]
     },
     "execution_count": 97,
     "metadata": {},
     "output_type": "execute_result"
    },
    {
     "data": {
      "image/png": "[encoded data removed]",
      "text/plain": [
       "<Figure size 1440x504 with 1 Axes>"
      ]
     },
     "metadata": {
      "needs_background": "light"
     },
     "output_type": "display_data"
    }
   ],
   "source": [
    "plt.figure(figsize=(20, 7))\n",
    "plt.xticks(rotation=90)\n",
    "sns.barplot(x=data_airport['Drone ID'].value_counts().index[:20],\n",
    "            y=data_airport['Drone ID'].value_counts().values[:20])"
   ]
  },
  {
   "cell_type": "markdown",
   "metadata": {
    "hidden": true
   },
   "source": [
    "    - we can see some drones have been detected quite frequently."
   ]
  },
  {
   "cell_type": "code",
   "execution_count": 98,
   "metadata": {
    "ExecuteTime": {
     "end_time": "2021-08-13T10:56:51.134666Z",
     "start_time": "2021-08-13T10:56:50.974528Z"
    },
    "hidden": true
   },
   "outputs": [
    {
     "data": {
      "text/plain": [
       "<AxesSubplot:>"
      ]
     },
     "execution_count": 98,
     "metadata": {},
     "output_type": "execute_result"
    },
    {
     "data": {
      "image/png": "[encoded data removed]",
      "text/plain": [
       "<Figure size 1440x504 with 1 Axes>"
      ]
     },
     "metadata": {
      "needs_background": "light"
     },
     "output_type": "display_data"
    }
   ],
   "source": [
    "plt.figure(figsize=(20, 7))\n",
    "plt.xticks(rotation=90)\n",
    "sns.barplot(x=data_airport['Drone Type'].value_counts().index[:20],\n",
    "            y=data_airport['Drone Type'].value_counts().values[:20])"
   ]
  },
  {
   "cell_type": "code",
   "execution_count": 101,
   "metadata": {
    "ExecuteTime": {
     "end_time": "2021-08-13T11:05:49.329506Z",
     "start_time": "2021-08-13T11:05:49.096131Z"
    },
    "hidden": true
   },
   "outputs": [
    {
     "data": {
      "text/plain": [
       "<AxesSubplot:>"
      ]
     },
     "execution_count": 101,
     "metadata": {},
     "output_type": "execute_result"
    },
    {
     "data": {
      "image/png": "[encoded data removed]",
      "text/plain": [
       "<Figure size 1440x504 with 1 Axes>"
      ]
     },
     "metadata": {
      "needs_background": "light"
     },
     "output_type": "display_data"
    }
   ],
   "source": [
    "plt.figure(figsize=(20, 7))\n",
    "plt.xticks(rotation=90)\n",
    "sns.barplot(x=data_airport['Flight ID'].value_counts().index[:20],\n",
    "            y=data_airport['Flight ID'].value_counts().values[:20])"
   ]
  },
  {
   "cell_type": "code",
   "execution_count": 101,
   "metadata": {
    "ExecuteTime": {
     "end_time": "2021-08-13T11:05:49.329506Z",
     "start_time": "2021-08-13T11:05:49.096131Z"
    },
    "hidden": true
   },
   "outputs": [
    {
     "data": {
      "text/plain": [
       "<AxesSubplot:>"
      ]
     },
     "execution_count": 101,
     "metadata": {},
     "output_type": "execute_result"
    },
    {
     "data": {
      "image/png": "[encoded data removed]",
      "text/plain": [
       "<Figure size 1440x504 with 1 Axes>"
      ]
     },
     "metadata": {
      "needs_background": "light"
     },
     "output_type": "display_data"
    }
   ],
   "source": [
    "plt.figure(figsize=(20, 7))\n",
    "plt.xticks(rotation=90)\n",
    "sns.barplot(x=data_airport['Flight ID'].value_counts().index[:20],\n",
    "            y=data_airport['Flight ID'].value_counts().values[:20])"
   ]
  },
  {
   "cell_type": "markdown",
   "metadata": {
    "heading_collapsed": true,
    "hidden": true
   },
   "source": [
    "### Time Analysis "
   ]
  },
  {
   "cell_type": "code",
   "execution_count": 109,
   "metadata": {
    "ExecuteTime": {
     "end_time": "2021-08-13T11:23:56.602267Z",
     "start_time": "2021-08-13T11:23:56.577332Z"
    },
    "hidden": true
   },
   "outputs": [],
   "source": [
    "data_airport['Detection Time'] = data_airport['Detection Time'].astype('datetime64[ns]')"
   ]
  },
  {
   "cell_type": "code",
   "execution_count": 111,
   "metadata": {
    "ExecuteTime": {
     "end_time": "2021-08-13T11:24:32.148766Z",
     "start_time": "2021-08-13T11:24:32.124831Z"
    },
    "hidden": true
   },
   "outputs": [
    {
     "data": {
      "text/html": [
       "<div>\n",
       "<style scoped>\n",
       "    .dataframe tbody tr th:only-of-type {\n",
       "        vertical-align: middle;\n",
       "    }\n",
       "\n",
       "    .dataframe tbody tr th {\n",
       "        vertical-align: top;\n",
       "    }\n",
       "\n",
       "    .dataframe thead th {\n",
       "        text-align: right;\n",
       "    }\n",
       "</style>\n",
       "<table border=\"1\" class=\"dataframe\">\n",
       "  <thead>\n",
       "    <tr style=\"text-align: right;\">\n",
       "      <th>Target</th>\n",
       "      <th>0</th>\n",
       "      <th>1</th>\n",
       "    </tr>\n",
       "    <tr>\n",
       "      <th>Detection Time</th>\n",
       "      <th></th>\n",
       "      <th></th>\n",
       "    </tr>\n",
       "  </thead>\n",
       "  <tbody>\n",
       "    <tr>\n",
       "      <th>0</th>\n",
       "      <td>61</td>\n",
       "      <td>1</td>\n",
       "    </tr>\n",
       "    <tr>\n",
       "      <th>1</th>\n",
       "      <td>556</td>\n",
       "      <td>0</td>\n",
       "    </tr>\n",
       "    <tr>\n",
       "      <th>2</th>\n",
       "      <td>264</td>\n",
       "      <td>32</td>\n",
       "    </tr>\n",
       "    <tr>\n",
       "      <th>3</th>\n",
       "      <td>158</td>\n",
       "      <td>124</td>\n",
       "    </tr>\n",
       "    <tr>\n",
       "      <th>6</th>\n",
       "      <td>87</td>\n",
       "      <td>0</td>\n",
       "    </tr>\n",
       "    <tr>\n",
       "      <th>7</th>\n",
       "      <td>598</td>\n",
       "      <td>105</td>\n",
       "    </tr>\n",
       "    <tr>\n",
       "      <th>8</th>\n",
       "      <td>615</td>\n",
       "      <td>153</td>\n",
       "    </tr>\n",
       "    <tr>\n",
       "      <th>9</th>\n",
       "      <td>1739</td>\n",
       "      <td>404</td>\n",
       "    </tr>\n",
       "    <tr>\n",
       "      <th>10</th>\n",
       "      <td>2018</td>\n",
       "      <td>346</td>\n",
       "    </tr>\n",
       "    <tr>\n",
       "      <th>11</th>\n",
       "      <td>1213</td>\n",
       "      <td>405</td>\n",
       "    </tr>\n",
       "    <tr>\n",
       "      <th>12</th>\n",
       "      <td>1248</td>\n",
       "      <td>254</td>\n",
       "    </tr>\n",
       "    <tr>\n",
       "      <th>13</th>\n",
       "      <td>2008</td>\n",
       "      <td>777</td>\n",
       "    </tr>\n",
       "    <tr>\n",
       "      <th>14</th>\n",
       "      <td>2515</td>\n",
       "      <td>638</td>\n",
       "    </tr>\n",
       "    <tr>\n",
       "      <th>15</th>\n",
       "      <td>1305</td>\n",
       "      <td>412</td>\n",
       "    </tr>\n",
       "    <tr>\n",
       "      <th>16</th>\n",
       "      <td>1948</td>\n",
       "      <td>858</td>\n",
       "    </tr>\n",
       "    <tr>\n",
       "      <th>17</th>\n",
       "      <td>1357</td>\n",
       "      <td>382</td>\n",
       "    </tr>\n",
       "    <tr>\n",
       "      <th>18</th>\n",
       "      <td>2183</td>\n",
       "      <td>481</td>\n",
       "    </tr>\n",
       "    <tr>\n",
       "      <th>19</th>\n",
       "      <td>1677</td>\n",
       "      <td>1354</td>\n",
       "    </tr>\n",
       "    <tr>\n",
       "      <th>20</th>\n",
       "      <td>541</td>\n",
       "      <td>68</td>\n",
       "    </tr>\n",
       "    <tr>\n",
       "      <th>21</th>\n",
       "      <td>593</td>\n",
       "      <td>157</td>\n",
       "    </tr>\n",
       "    <tr>\n",
       "      <th>22</th>\n",
       "      <td>664</td>\n",
       "      <td>53</td>\n",
       "    </tr>\n",
       "    <tr>\n",
       "      <th>23</th>\n",
       "      <td>288</td>\n",
       "      <td>15</td>\n",
       "    </tr>\n",
       "  </tbody>\n",
       "</table>\n",
       "</div>"
      ],
      "text/plain": [
       "Target             0     1\n",
       "Detection Time            \n",
       "0                 61     1\n",
       "1                556     0\n",
       "2                264    32\n",
       "3                158   124\n",
       "6                 87     0\n",
       "7                598   105\n",
       "8                615   153\n",
       "9               1739   404\n",
       "10              2018   346\n",
       "11              1213   405\n",
       "12              1248   254\n",
       "13              2008   777\n",
       "14              2515   638\n",
       "15              1305   412\n",
       "16              1948   858\n",
       "17              1357   382\n",
       "18              2183   481\n",
       "19              1677  1354\n",
       "20               541    68\n",
       "21               593   157\n",
       "22               664    53\n",
       "23               288    15"
      ]
     },
     "execution_count": 111,
     "metadata": {},
     "output_type": "execute_result"
    }
   ],
   "source": [
    "pd.crosstab(data_airport['Detection Time'].dt.hour,data_airport['Target'])"
   ]
  },
  {
   "cell_type": "markdown",
   "metadata": {
    "hidden": true
   },
   "source": [
    "    - We can see the risk is spread across all the time of the day"
   ]
  },
  {
   "cell_type": "code",
   "execution_count": 105,
   "metadata": {
    "ExecuteTime": {
     "end_time": "2021-08-13T11:23:01.612053Z",
     "start_time": "2021-08-13T11:23:00.495985Z"
    },
    "hidden": true
   },
   "outputs": [
    {
     "data": {
      "application/vnd.jupyter.widget-view+json": {
       "model_id": "17103320ed774fbda29ca181a9a8f38c",
       "version_major": 2,
       "version_minor": 0
      },
      "text/plain": [
       "HBox(children=(HTML(value='Pandas Apply'), FloatProgress(value=0.0, max=30655.0), HTML(value='')))"
      ]
     },
     "metadata": {},
     "output_type": "display_data"
    },
    {
     "name": "stdout",
     "output_type": "stream",
     "text": [
      "\n"
     ]
    },
    {
     "data": {
      "text/plain": [
       "<AxesSubplot:ylabel='Density'>"
      ]
     },
     "execution_count": 105,
     "metadata": {},
     "output_type": "execute_result"
    },
    {
     "data": {
      "image/png": "[encoded data removed]",
      "text/plain": [
       "<Figure size 1440x360 with 1 Axes>"
      ]
     },
     "metadata": {
      "needs_background": "light"
     },
     "output_type": "display_data"
    }
   ],
   "source": [
    "plt.figure(figsize=(20, 5))\n",
    "sns.kdeplot(data_airport[[\n",
    "    'Latitude', 'Longitude', 'Home Latitude', 'Home Longitude'\n",
    "]].swifter.apply(lambda x: euclidean_distance(x[0],x[1],x[2],x[3]),axis=1))"
   ]
  },
  {
   "cell_type": "markdown",
   "metadata": {},
   "source": [
    "# Feature Engineering "
   ]
  },
  {
   "cell_type": "code",
   "execution_count": 118,
   "metadata": {
    "ExecuteTime": {
     "end_time": "2021-08-13T11:41:15.133302Z",
     "start_time": "2021-08-13T11:41:15.124327Z"
    }
   },
   "outputs": [],
   "source": [
    "feature_df = pd.DataFrame()"
   ]
  },
  {
   "cell_type": "markdown",
   "metadata": {},
   "source": [
    "## Time Based Features "
   ]
  },
  {
   "cell_type": "code",
   "execution_count": 112,
   "metadata": {
    "ExecuteTime": {
     "end_time": "2021-08-13T11:34:48.492170Z",
     "start_time": "2021-08-13T11:34:48.465186Z"
    }
   },
   "outputs": [],
   "source": [
    "feature_df['Day_or_Night'] = data_airport['Detection Time'].dt.hour.apply(\n",
    "    lambda x: 1 if x in [8, 9, 10, 11, 12, 13, 14, 15, 16, 17, 18] else 0)\n",
    "feature_df['Hour_of_Day'] = data_airport['Detection Time'].dt.hour"
   ]
  },
  {
   "cell_type": "markdown",
   "metadata": {},
   "source": [
    "## Based on Drone Profile "
   ]
  },
  {
   "cell_type": "code",
   "execution_count": 120,
   "metadata": {
    "ExecuteTime": {
     "end_time": "2021-08-13T11:41:47.092948Z",
     "start_time": "2021-08-13T11:41:47.078984Z"
    }
   },
   "outputs": [],
   "source": [
    "feature_df['profiled_count'] = pd.merge(\n",
    "    data_airport['Drone ID'],\n",
    "    data_airport['Drone ID'].value_counts().reset_index(),\n",
    "    left_on='Drone ID',\n",
    "    right_on='index',\n",
    "    how='inner')['Drone ID_y']"
   ]
  },
  {
   "cell_type": "markdown",
   "metadata": {},
   "source": [
    "## Distance Based Features "
   ]
  },
  {
   "cell_type": "code",
   "execution_count": null,
   "metadata": {},
   "outputs": [],
   "source": [
    "feature_df['bearing_drone_flight'] = data_airport[[\n",
    "    'Latitude', 'Longitude', 'Pilot Latitude', 'Pilot Longitude'\n",
    "]].swifter.apply(lambda x: bearing_array(x[0], x[1], x[2], x[3]), axis=1)\n",
    "feature_df['great_circle_distance'] = data_airport[[\n",
    "    'Latitude', 'Longitude', 'Pilot Latitude', 'Pilot Longitude'\n",
    "]].swifter.apply(lambda x: haversine_array(x[0], x[1], x[2], x[3]), axis=1)\n",
    "feature_df['BVLOS'] = data_airport[[\n",
    "    'Latitude', 'Longitude', 'Home Latitude', 'Home Longitude'\n",
    "]].swifter.apply(lambda x: euclidean_distance(x[0], x[1], x[2], x[3]),\n",
    "                 axis=1).apply(lambda x: 1 if x >= 10 else 0)\n",
    "feature_df['abs_altitude_difference'] = data_airport[[\n",
    "    'Altitude', 'Altitude/Height'\n",
    "]].swifter.apply(lambda x: abs(x[0] - x[1]), axis=1)"
   ]
  },
  {
   "cell_type": "code",
   "execution_count": 124,
   "metadata": {
    "ExecuteTime": {
     "end_time": "2021-08-13T12:15:45.972091Z",
     "start_time": "2021-08-13T12:15:45.748445Z"
    }
   },
   "outputs": [],
   "source": [
    "feature_df['time_to_colide'] = data_airport[[\n",
    "    'Speed', 'great_circle_distance', 'Ascending Speed'\n",
    "]].apply(lambda x: x[1] / (x[0] - x[2]) + 1, axis=1)"
   ]
  },
  {
   "cell_type": "markdown",
   "metadata": {},
   "source": [
    "## Drone Based Features "
   ]
  },
  {
   "cell_type": "code",
   "execution_count": 128,
   "metadata": {
    "ExecuteTime": {
     "end_time": "2021-08-13T12:17:56.805927Z",
     "start_time": "2021-08-13T12:17:56.781991Z"
    }
   },
   "outputs": [],
   "source": [
    "feature_df['Payload Capacity'] = data_airport['Payload Capacity'].apply(\n",
    "    lambda x: float(str(x).split()[0]))"
   ]
  },
  {
   "cell_type": "code",
   "execution_count": null,
   "metadata": {},
   "outputs": [],
   "source": [
    "feature_df['Unknown_Drone'] = data_airport['Drone Type'].apply(\n",
    "    lambda x: 1 if str(x) =='unknown' else 0)"
   ]
  },
  {
   "cell_type": "code",
   "execution_count": 129,
   "metadata": {
    "ExecuteTime": {
     "end_time": "2021-08-13T12:22:26.144818Z",
     "start_time": "2021-08-13T12:22:26.132851Z"
    }
   },
   "outputs": [],
   "source": [
    "feature_df['Product type'] = data_airport['Product type'].fillna(-99).apply(int)"
   ]
  },
  {
   "cell_type": "markdown",
   "metadata": {},
   "source": [
    "## Rest Raw Fields as-is "
   ]
  },
  {
   "cell_type": "code",
   "execution_count": 130,
   "metadata": {
    "ExecuteTime": {
     "end_time": "2021-08-13T12:24:08.607222Z",
     "start_time": "2021-08-13T12:24:08.544087Z"
    }
   },
   "outputs": [],
   "source": [
    "for i in [\n",
    "    'Latitude', 'Longitude', 'Speed', 'Altitude', 'Northward Speed',\n",
    "    'Eastward Speed', 'Ascending Speed', 'Altitude/Height', 'Roll', 'Pitch',\n",
    "    'Yaw', 'Home Longitude', 'Home Latitude', 'Pilot Longitude',\n",
    "    'Pilot Latitude'\n",
    "]:\n",
    "    feature_df[i] = data_airport[i].tolist().copy()\n",
    "del i"
   ]
  },
  {
   "cell_type": "code",
   "execution_count": null,
   "metadata": {},
   "outputs": [],
   "source": []
  },
  {
   "cell_type": "code",
   "execution_count": null,
   "metadata": {},
   "outputs": [],
   "source": []
  },
  {
   "cell_type": "code",
   "execution_count": null,
   "metadata": {},
   "outputs": [],
   "source": [
    "data_airport['great_circle_distance'] = data_airport[[\n",
    "    'Latitude', 'Longitude', 'Pilot Latitude', 'Pilot Longitude'\n",
    "]].swifter.apply(lambda x: haversine_array(x[0],x[1],x[2],x[3]),axis=1)"
   ]
  },
  {
   "cell_type": "code",
   "execution_count": 122,
   "metadata": {
    "ExecuteTime": {
     "end_time": "2021-08-13T12:11:07.329255Z",
     "start_time": "2021-08-13T12:11:06.491474Z"
    }
   },
   "outputs": [
    {
     "data": {
      "application/vnd.jupyter.widget-view+json": {
       "model_id": "1419117bfcf74081b30b1d9608c52723",
       "version_major": 2,
       "version_minor": 0
      },
      "text/plain": [
       "HBox(children=(HTML(value='Pandas Apply'), FloatProgress(value=0.0, max=30655.0), HTML(value='')))"
      ]
     },
     "metadata": {},
     "output_type": "display_data"
    },
    {
     "name": "stdout",
     "output_type": "stream",
     "text": [
      "\n"
     ]
    },
    {
     "data": {
      "text/plain": [
       "99.743117      1\n",
       "99.742692      1\n",
       "99.742425      2\n",
       "99.742423      5\n",
       "99.742422      2\n",
       "            ... \n",
       "0.000006      62\n",
       "0.000006       8\n",
       "0.000006      58\n",
       "0.000006      22\n",
       "0.000000     369\n",
       "Length: 19727, dtype: int64"
      ]
     },
     "execution_count": 122,
     "metadata": {},
     "output_type": "execute_result"
    }
   ],
   "source": []
  },
  {
   "cell_type": "code",
   "execution_count": 113,
   "metadata": {
    "ExecuteTime": {
     "end_time": "2021-08-13T11:37:22.266099Z",
     "start_time": "2021-08-13T11:37:22.245156Z"
    }
   },
   "outputs": [
    {
     "data": {
      "text/plain": [
       "1"
      ]
     },
     "execution_count": 113,
     "metadata": {},
     "output_type": "execute_result"
    }
   ],
   "source": [
    "data_airport['Aeroscope ID'].nunique()"
   ]
  },
  {
   "cell_type": "code",
   "execution_count": null,
   "metadata": {},
   "outputs": [],
   "source": [
    "data_airport['euclidean_distance'] = "
   ]
  },
  {
   "cell_type": "code",
   "execution_count": 123,
   "metadata": {
    "ExecuteTime": {
     "end_time": "2021-08-13T12:13:54.596624Z",
     "start_time": "2021-08-13T12:13:54.567701Z"
    }
   },
   "outputs": [
    {
     "data": {
      "text/html": [
       "<div>\n",
       "<style scoped>\n",
       "    .dataframe tbody tr th:only-of-type {\n",
       "        vertical-align: middle;\n",
       "    }\n",
       "\n",
       "    .dataframe tbody tr th {\n",
       "        vertical-align: top;\n",
       "    }\n",
       "\n",
       "    .dataframe thead th {\n",
       "        text-align: right;\n",
       "    }\n",
       "</style>\n",
       "<table border=\"1\" class=\"dataframe\">\n",
       "  <thead>\n",
       "    <tr style=\"text-align: right;\">\n",
       "      <th></th>\n",
       "      <th>Detection Time</th>\n",
       "      <th>Aeroscope ID</th>\n",
       "      <th>Drone Type</th>\n",
       "      <th>Drone ID</th>\n",
       "      <th>Flight ID</th>\n",
       "      <th>Latitude</th>\n",
       "      <th>Longitude</th>\n",
       "      <th>Speed</th>\n",
       "      <th>Altitude</th>\n",
       "      <th>Northward Speed</th>\n",
       "      <th>Eastward Speed</th>\n",
       "      <th>Ascending Speed</th>\n",
       "      <th>Altitude/Height</th>\n",
       "      <th>Roll</th>\n",
       "      <th>Pitch</th>\n",
       "      <th>Yaw</th>\n",
       "      <th>Home Longitude</th>\n",
       "      <th>Home Latitude</th>\n",
       "      <th>Pilot Longitude</th>\n",
       "      <th>Pilot Latitude</th>\n",
       "      <th>Product type</th>\n",
       "      <th>Drone name</th>\n",
       "      <th>Payload Capacity</th>\n",
       "      <th>_merge</th>\n",
       "      <th>great_circle_distance</th>\n",
       "      <th>absolute_altitude_difference</th>\n",
       "      <th>Target</th>\n",
       "      <th>Day_or_Night</th>\n",
       "      <th>Hour_of_Day</th>\n",
       "    </tr>\n",
       "  </thead>\n",
       "  <tbody>\n",
       "    <tr>\n",
       "      <th>0</th>\n",
       "      <td>2020-03-31 21:23:36</td>\n",
       "      <td>0QRDG810030067</td>\n",
       "      <td>Mavic Pro</td>\n",
       "      <td>08RDE9N00102SS</td>\n",
       "      <td>eb18b48d-b92a-4768-9449-4a9e8f7a3d8e</td>\n",
       "      <td>29.684525</td>\n",
       "      <td>-95.190142</td>\n",
       "      <td>14.347104</td>\n",
       "      <td>119.4</td>\n",
       "      <td>-2.37</td>\n",
       "      <td>-14.15</td>\n",
       "      <td>0</td>\n",
       "      <td>0</td>\n",
       "      <td>0.0</td>\n",
       "      <td>0.0</td>\n",
       "      <td>84.78</td>\n",
       "      <td>-95.191672</td>\n",
       "      <td>29.681099</td>\n",
       "      <td>-95.191770</td>\n",
       "      <td>29.681128</td>\n",
       "      <td>16.0</td>\n",
       "      <td>Mavic Pro</td>\n",
       "      <td>0.8 kg</td>\n",
       "      <td>both</td>\n",
       "      <td>0.409198</td>\n",
       "      <td>119.4</td>\n",
       "      <td>0</td>\n",
       "      <td>0</td>\n",
       "      <td>21</td>\n",
       "    </tr>\n",
       "    <tr>\n",
       "      <th>1</th>\n",
       "      <td>2020-03-31 21:23:30</td>\n",
       "      <td>0QRDG810030067</td>\n",
       "      <td>Mavic Pro</td>\n",
       "      <td>08RDE9N00102SS</td>\n",
       "      <td>eb18b48d-b92a-4768-9449-4a9e8f7a3d8e</td>\n",
       "      <td>29.684657</td>\n",
       "      <td>-95.189151</td>\n",
       "      <td>15.897553</td>\n",
       "      <td>119.3</td>\n",
       "      <td>-3.01</td>\n",
       "      <td>-15.61</td>\n",
       "      <td>0</td>\n",
       "      <td>0</td>\n",
       "      <td>0.0</td>\n",
       "      <td>0.0</td>\n",
       "      <td>81.99</td>\n",
       "      <td>-95.191672</td>\n",
       "      <td>29.681099</td>\n",
       "      <td>-95.191770</td>\n",
       "      <td>29.681128</td>\n",
       "      <td>16.0</td>\n",
       "      <td>Mavic Pro</td>\n",
       "      <td>0.8 kg</td>\n",
       "      <td>both</td>\n",
       "      <td>0.466908</td>\n",
       "      <td>119.3</td>\n",
       "      <td>0</td>\n",
       "      <td>0</td>\n",
       "      <td>21</td>\n",
       "    </tr>\n",
       "    <tr>\n",
       "      <th>2</th>\n",
       "      <td>2020-03-31 21:23:16</td>\n",
       "      <td>0QRDG810030067</td>\n",
       "      <td>Mavic Pro</td>\n",
       "      <td>08RDE9N00102SS</td>\n",
       "      <td>eb18b48d-b92a-4768-9449-4a9e8f7a3d8e</td>\n",
       "      <td>29.684943</td>\n",
       "      <td>-95.188544</td>\n",
       "      <td>14.563602</td>\n",
       "      <td>119.6</td>\n",
       "      <td>-11.52</td>\n",
       "      <td>-8.91</td>\n",
       "      <td>0</td>\n",
       "      <td>0</td>\n",
       "      <td>0.0</td>\n",
       "      <td>0.0</td>\n",
       "      <td>37.40</td>\n",
       "      <td>-95.191672</td>\n",
       "      <td>29.681099</td>\n",
       "      <td>-95.191775</td>\n",
       "      <td>29.681139</td>\n",
       "      <td>16.0</td>\n",
       "      <td>Mavic Pro</td>\n",
       "      <td>0.8 kg</td>\n",
       "      <td>both</td>\n",
       "      <td>0.525747</td>\n",
       "      <td>119.6</td>\n",
       "      <td>0</td>\n",
       "      <td>0</td>\n",
       "      <td>21</td>\n",
       "    </tr>\n",
       "    <tr>\n",
       "      <th>3</th>\n",
       "      <td>2020-03-31 21:22:56</td>\n",
       "      <td>0QRDG810030067</td>\n",
       "      <td>Mavic Pro</td>\n",
       "      <td>08RDE9N00102SS</td>\n",
       "      <td>eb18b48d-b92a-4768-9449-4a9e8f7a3d8e</td>\n",
       "      <td>29.685052</td>\n",
       "      <td>-95.189140</td>\n",
       "      <td>9.074365</td>\n",
       "      <td>122.5</td>\n",
       "      <td>3.04</td>\n",
       "      <td>8.55</td>\n",
       "      <td>0</td>\n",
       "      <td>0</td>\n",
       "      <td>0.0</td>\n",
       "      <td>0.0</td>\n",
       "      <td>242.45</td>\n",
       "      <td>-95.191672</td>\n",
       "      <td>29.681099</td>\n",
       "      <td>-95.191770</td>\n",
       "      <td>29.681139</td>\n",
       "      <td>16.0</td>\n",
       "      <td>Mavic Pro</td>\n",
       "      <td>0.8 kg</td>\n",
       "      <td>both</td>\n",
       "      <td>0.503875</td>\n",
       "      <td>122.5</td>\n",
       "      <td>0</td>\n",
       "      <td>0</td>\n",
       "      <td>21</td>\n",
       "    </tr>\n",
       "    <tr>\n",
       "      <th>4</th>\n",
       "      <td>2020-03-31 21:22:43</td>\n",
       "      <td>0QRDG810030067</td>\n",
       "      <td>Mavic Pro</td>\n",
       "      <td>08RDE9N00102SS</td>\n",
       "      <td>eb18b48d-b92a-4768-9449-4a9e8f7a3d8e</td>\n",
       "      <td>29.684680</td>\n",
       "      <td>-95.190211</td>\n",
       "      <td>10.414807</td>\n",
       "      <td>86.2</td>\n",
       "      <td>5.71</td>\n",
       "      <td>8.71</td>\n",
       "      <td>0</td>\n",
       "      <td>0</td>\n",
       "      <td>0.0</td>\n",
       "      <td>0.0</td>\n",
       "      <td>239.52</td>\n",
       "      <td>-95.191672</td>\n",
       "      <td>29.681099</td>\n",
       "      <td>-95.191770</td>\n",
       "      <td>29.681139</td>\n",
       "      <td>16.0</td>\n",
       "      <td>Mavic Pro</td>\n",
       "      <td>0.8 kg</td>\n",
       "      <td>both</td>\n",
       "      <td>0.421530</td>\n",
       "      <td>86.2</td>\n",
       "      <td>0</td>\n",
       "      <td>0</td>\n",
       "      <td>21</td>\n",
       "    </tr>\n",
       "  </tbody>\n",
       "</table>\n",
       "</div>"
      ],
      "text/plain": [
       "       Detection Time    Aeroscope ID Drone Type        Drone ID  \\\n",
       "0 2020-03-31 21:23:36  0QRDG810030067  Mavic Pro  08RDE9N00102SS   \n",
       "1 2020-03-31 21:23:30  0QRDG810030067  Mavic Pro  08RDE9N00102SS   \n",
       "2 2020-03-31 21:23:16  0QRDG810030067  Mavic Pro  08RDE9N00102SS   \n",
       "3 2020-03-31 21:22:56  0QRDG810030067  Mavic Pro  08RDE9N00102SS   \n",
       "4 2020-03-31 21:22:43  0QRDG810030067  Mavic Pro  08RDE9N00102SS   \n",
       "\n",
       "                              Flight ID   Latitude  Longitude      Speed  \\\n",
       "0  eb18b48d-b92a-4768-9449-4a9e8f7a3d8e  29.684525 -95.190142  14.347104   \n",
       "1  eb18b48d-b92a-4768-9449-4a9e8f7a3d8e  29.684657 -95.189151  15.897553   \n",
       "2  eb18b48d-b92a-4768-9449-4a9e8f7a3d8e  29.684943 -95.188544  14.563602   \n",
       "3  eb18b48d-b92a-4768-9449-4a9e8f7a3d8e  29.685052 -95.189140   9.074365   \n",
       "4  eb18b48d-b92a-4768-9449-4a9e8f7a3d8e  29.684680 -95.190211  10.414807   \n",
       "\n",
       "   Altitude  Northward Speed  Eastward Speed  Ascending Speed  \\\n",
       "0     119.4            -2.37          -14.15                0   \n",
       "1     119.3            -3.01          -15.61                0   \n",
       "2     119.6           -11.52           -8.91                0   \n",
       "3     122.5             3.04            8.55                0   \n",
       "4      86.2             5.71            8.71                0   \n",
       "\n",
       "   Altitude/Height  Roll  Pitch     Yaw  Home Longitude  Home Latitude  \\\n",
       "0                0   0.0    0.0   84.78      -95.191672      29.681099   \n",
       "1                0   0.0    0.0   81.99      -95.191672      29.681099   \n",
       "2                0   0.0    0.0   37.40      -95.191672      29.681099   \n",
       "3                0   0.0    0.0  242.45      -95.191672      29.681099   \n",
       "4                0   0.0    0.0  239.52      -95.191672      29.681099   \n",
       "\n",
       "   Pilot Longitude  Pilot Latitude  Product type Drone name Payload Capacity  \\\n",
       "0       -95.191770       29.681128          16.0  Mavic Pro           0.8 kg   \n",
       "1       -95.191770       29.681128          16.0  Mavic Pro           0.8 kg   \n",
       "2       -95.191775       29.681139          16.0  Mavic Pro           0.8 kg   \n",
       "3       -95.191770       29.681139          16.0  Mavic Pro           0.8 kg   \n",
       "4       -95.191770       29.681139          16.0  Mavic Pro           0.8 kg   \n",
       "\n",
       "  _merge  great_circle_distance  absolute_altitude_difference  Target  \\\n",
       "0   both               0.409198                         119.4       0   \n",
       "1   both               0.466908                         119.3       0   \n",
       "2   both               0.525747                         119.6       0   \n",
       "3   both               0.503875                         122.5       0   \n",
       "4   both               0.421530                          86.2       0   \n",
       "\n",
       "   Day_or_Night  Hour_of_Day  \n",
       "0             0           21  \n",
       "1             0           21  \n",
       "2             0           21  \n",
       "3             0           21  \n",
       "4             0           21  "
      ]
     },
     "execution_count": 123,
     "metadata": {},
     "output_type": "execute_result"
    }
   ],
   "source": [
    "data_airport.head()"
   ]
  },
  {
   "cell_type": "markdown",
   "metadata": {},
   "source": [
    "# Feature Selection"
   ]
  },
  {
   "cell_type": "code",
   "execution_count": null,
   "metadata": {},
   "outputs": [],
   "source": []
  },
  {
   "cell_type": "markdown",
   "metadata": {},
   "source": [
    "# Data Splitting"
   ]
  },
  {
   "cell_type": "code",
   "execution_count": null,
   "metadata": {},
   "outputs": [],
   "source": []
  },
  {
   "cell_type": "markdown",
   "metadata": {},
   "source": [
    "# Model Training & Tuning "
   ]
  },
  {
   "cell_type": "markdown",
   "metadata": {},
   "source": [
    "# Model Evaluation"
   ]
  },
  {
   "cell_type": "markdown",
   "metadata": {},
   "source": [
    "# Model Explanation"
   ]
  },
  {
   "cell_type": "code",
   "execution_count": null,
   "metadata": {},
   "outputs": [],
   "source": []
  }
 ],
 "metadata": {
  "kernelspec": {
   "display_name": "Python 3",
   "language": "python",
   "name": "python3"
  },
  "language_info": {
   "codemirror_mode": {
    "name": "ipython",
    "version": 3
   },
   "file_extension": ".py",
   "mimetype": "text/x-python",
   "name": "python",
   "nbconvert_exporter": "python",
   "pygments_lexer": "ipython3",
   "version": "3.8.5"
  },
  "toc": {
   "base_numbering": 1,
   "nav_menu": {},
   "number_sections": true,
   "sideBar": true,
   "skip_h1_title": false,
   "title_cell": "Table of Contents",
   "title_sidebar": "Contents",
   "toc_cell": false,
   "toc_position": {
    "height": "calc(100% - 180px)",
    "left": "10px",
    "top": "150px",
    "width": "274.492px"
   },
   "toc_section_display": true,
   "toc_window_display": true
  },
  "varInspector": {
   "cols": {
    "lenName": 16,
    "lenType": 16,
    "lenVar": 40
   },
   "kernels_config": {
    "python": {
     "delete_cmd_postfix": "",
     "delete_cmd_prefix": "del ",
     "library": "var_list.py",
     "varRefreshCmd": "print(var_dic_list())"
    },
    "r": {
     "delete_cmd_postfix": ") ",
     "delete_cmd_prefix": "rm(",
     "library": "var_list.r",
     "varRefreshCmd": "cat(var_dic_list()) "
    }
   },
   "position": {
    "height": "993.477px",
    "left": "1775.46px",
    "right": "20px",
    "top": "128.977px",
    "width": "346.426px"
   },
   "types_to_exclude": [
    "module",
    "function",
    "builtin_function_or_method",
    "instance",
    "_Feature"
   ],
   "window_display": true
  }
 },
 "nbformat": 4,
 "nbformat_minor": 4
}

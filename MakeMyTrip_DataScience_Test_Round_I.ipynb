{
 "cells": [
  {
   "cell_type": "markdown",
   "metadata": {},
   "source": [
    "# Motivation"
   ]
  },
  {
   "cell_type": "markdown",
   "metadata": {},
   "source": [
    "&#9680; There will be a <font color=green><u>**HackerEarth Test Link**</u></font>\n",
    "\n",
    "&#9680; Test format is as follows :\n",
    "    \n",
    "    - 12 MCQs\n",
    "    - 1 Predictive Modeling \n",
    "    \n",
    "&#9680; This notebook consist of my code on Predictive modeling Assignment \n",
    "\n",
    "&#9680; [Test Link](https://www.hackerearth.com/challenges/test/makemytrip-ds-aug/?login=a97b96470e7e5900dd2afbe1179c79a3)"
   ]
  },
  {
   "cell_type": "markdown",
   "metadata": {},
   "source": [
    "# Load Libraries "
   ]
  },
  {
   "cell_type": "code",
   "execution_count": 2,
   "metadata": {
    "ExecuteTime": {
     "end_time": "2021-08-29T05:52:07.806798Z",
     "start_time": "2021-08-29T05:51:59.109169Z"
    }
   },
   "outputs": [],
   "source": [
    "from sklearn import metrics\n",
    "import numpy as np\n",
    "import pandas as pd\n",
    "import re\n",
    "import nltk\n",
    "import spacy\n",
    "import string\n",
    "from nltk.corpus import stopwords\n",
    "from collections import Counter\n",
    "from nltk.corpus import wordnet\n",
    "from nltk.stem import WordNetLemmatizer\n",
    "from spellchecker import SpellChecker\n",
    "import xgboost as xgb\n",
    "import swifter\n",
    "import warnings\n",
    "import matplotlib.pyplot as plt\n",
    "import pycm\n",
    "import pandas as pd\n",
    "import numpy as np\n",
    "import warnings\n",
    "import os\n",
    "import re\n",
    "import math\n",
    "import time\n",
    "import lightgbm as lgb\n",
    "from sklearn.feature_extraction.text import TfidfVectorizer"
   ]
  },
  {
   "cell_type": "code",
   "execution_count": 3,
   "metadata": {
    "ExecuteTime": {
     "end_time": "2021-08-29T05:52:08.960653Z",
     "start_time": "2021-08-29T05:52:08.945675Z"
    }
   },
   "outputs": [],
   "source": [
    "%matplotlib inline\n",
    "warnings.filterwarnings(\"ignore\")\n",
    "pd.set_option('max_colwidth', 999)\n",
    "pd.set_option('display.max_columns', 999)\n",
    "pd.set_option(\"display.max_rows\", 999)"
   ]
  },
  {
   "cell_type": "markdown",
   "metadata": {},
   "source": [
    "# Tools & Utilities "
   ]
  },
  {
   "cell_type": "markdown",
   "metadata": {
    "heading_collapsed": true
   },
   "source": [
    "## Pre-Processing "
   ]
  },
  {
   "cell_type": "code",
   "execution_count": 4,
   "metadata": {
    "ExecuteTime": {
     "end_time": "2021-08-29T05:52:12.499027Z",
     "start_time": "2021-08-29T05:52:12.492046Z"
    },
    "hidden": true
   },
   "outputs": [],
   "source": [
    "def remove_punctuation(text):\n",
    "    \"\"\"custom function to remove the punctuation\"\"\"\n",
    "    PUNCT_TO_REMOVE = string.punctuation\n",
    "    return text.translate(str.maketrans('', '', PUNCT_TO_REMOVE))\n",
    "def remove_stopwords(text):\n",
    "    \"\"\"custom function to remove the stopwords\"\"\"\n",
    "    STOPWORDS = set(stopwords.words('english'))\n",
    "    return \" \".join(\n",
    "        [word for word in str(text).split() if word not in STOPWORDS])\n",
    "def lemmatize_words(text):\n",
    "    lemmatizer = WordNetLemmatizer()\n",
    "    wordnet_map = {\n",
    "        \"N\": wordnet.NOUN,\n",
    "        \"V\": wordnet.VERB,\n",
    "        \"J\": wordnet.ADJ,\n",
    "        \"R\": wordnet.ADV\n",
    "    }\n",
    "    pos_tagged_text = nltk.pos_tag(text.split())\n",
    "    return \" \".join([\n",
    "        lemmatizer.lemmatize(word, wordnet_map.get(pos[0], wordnet.NOUN))\n",
    "        for word, pos in pos_tagged_text\n",
    "    ])"
   ]
  },
  {
   "cell_type": "code",
   "execution_count": 5,
   "metadata": {
    "ExecuteTime": {
     "end_time": "2021-08-29T05:52:14.646851Z",
     "start_time": "2021-08-29T05:52:14.642864Z"
    },
    "hidden": true
   },
   "outputs": [],
   "source": [
    "chat_words_str = \"\"\"\n",
    "AFAIK=As Far As I Know\n",
    "AFK=Away From Keyboard\n",
    "ASAP=As Soon As Possible\n",
    "ATK=At The Keyboard\n",
    "ATM=At The Moment\n",
    "A3=Anytime, Anywhere, Anyplace\n",
    "BAK=Back At Keyboard\n",
    "BBL=Be Back Later\n",
    "BBS=Be Back Soon\n",
    "BFN=Bye For Now\n",
    "B4N=Bye For Now\n",
    "BRB=Be Right Back\n",
    "BRT=Be Right There\n",
    "BTW=By The Way\n",
    "B4=Before\n",
    "B4N=Bye For Now\n",
    "CU=See You\n",
    "CUL8R=See You Later\n",
    "CYA=See You\n",
    "FAQ=Frequently Asked Questions\n",
    "FC=Fingers Crossed\n",
    "FWIW=For What It's Worth\n",
    "FYI=For Your Information\n",
    "GAL=Get A Life\n",
    "GG=Good Game\n",
    "GN=Good Night\n",
    "GMTA=Great Minds Think Alike\n",
    "GR8=Great!\n",
    "G9=Genius\n",
    "IC=I See\n",
    "ICQ=I Seek you (also a chat program)\n",
    "ILU=ILU: I Love You\n",
    "IMHO=In My Honest/Humble Opinion\n",
    "IMO=In My Opinion\n",
    "IOW=In Other Words\n",
    "IRL=In Real Life\n",
    "KISS=Keep It Simple, Stupid\n",
    "LDR=Long Distance Relationship\n",
    "LMAO=Laugh My A.. Off\n",
    "LOL=Laughing Out Loud\n",
    "LTNS=Long Time No See\n",
    "L8R=Later\n",
    "MTE=My Thoughts Exactly\n",
    "M8=Mate\n",
    "NRN=No Reply Necessary\n",
    "OIC=Oh I See\n",
    "PITA=Pain In The A..\n",
    "PRT=Party\n",
    "PRW=Parents Are Watching\n",
    "ROFL=Rolling On The Floor Laughing\n",
    "ROFLOL=Rolling On The Floor Laughing Out Loud\n",
    "ROTFLMAO=Rolling On The Floor Laughing My A.. Off\n",
    "SK8=Skate\n",
    "STATS=Your sex and age\n",
    "ASL=Age, Sex, Location\n",
    "THX=Thank You\n",
    "TTFN=Ta-Ta For Now!\n",
    "TTYL=Talk To You Later\n",
    "U=You\n",
    "U2=You Too\n",
    "U4E=Yours For Ever\n",
    "WB=Welcome Back\n",
    "WTF=What The F...\n",
    "WTG=Way To Go!\n",
    "WUF=Where Are You From?\n",
    "W8=Wait...\n",
    "7K=Sick:-D Laugher\n",
    "\"\"\"\n",
    "def chat_words_conversion(text):\n",
    "    new_text = []\n",
    "    for w in text.split():\n",
    "        if w.upper() in chat_words_list:\n",
    "            new_text.append(chat_words_map_dict[w.upper()])\n",
    "        else:\n",
    "            new_text.append(w)\n",
    "    return \" \".join(new_text)"
   ]
  },
  {
   "cell_type": "code",
   "execution_count": 6,
   "metadata": {
    "ExecuteTime": {
     "end_time": "2021-08-29T05:52:18.603154Z",
     "start_time": "2021-08-29T05:52:18.595173Z"
    },
    "hidden": true
   },
   "outputs": [],
   "source": [
    "def correct_spellings(text):\n",
    "    spell = SpellChecker()\n",
    "    corrected_text = []\n",
    "    misspelled_words = spell.unknown(text.split())\n",
    "    for word in text.split():\n",
    "        if word in misspelled_words:\n",
    "            corrected_text.append(spell.correction(word))\n",
    "        else:\n",
    "            corrected_text.append(word)\n",
    "    return \" \".join(corrected_text)"
   ]
  },
  {
   "cell_type": "code",
   "execution_count": 7,
   "metadata": {
    "ExecuteTime": {
     "end_time": "2021-08-29T05:52:26.946279Z",
     "start_time": "2021-08-29T05:52:26.926330Z"
    },
    "hidden": true
   },
   "outputs": [],
   "source": [
    "def pre_process(input_df, column):\n",
    "    input_df[column] = input_df[column].astype(str)\n",
    "    input_df[\"pre_processed_\" + str(column)] = input_df[column].str.lower()\n",
    "    input_df[\"pre_processed_\" +\n",
    "             str(column)] = input_df[\"pre_processed_clean_hm\"].swifter.apply(\n",
    "                 lambda text: remove_punctuation(text))\n",
    "    input_df[\"pre_processed_\" + str(column)] = input_df[\n",
    "        \"pre_processed_\" +\n",
    "        str(column)].swifter.apply(lambda text: remove_stopwords(text))\n",
    "    input_df[\"pre_processed_\" + str(column)] = input_df[\n",
    "        \"pre_processed_\" +\n",
    "        str(column)].swifter.apply(lambda text: lemmatize_words(text))\n",
    "    input_df[\"pre_processed_\" + str(column)] = input_df[\n",
    "        \"pre_processed_\" +\n",
    "        str(column)].swifter.apply(lambda text: chat_words_conversion(text))\n",
    "    return input_df"
   ]
  },
  {
   "cell_type": "markdown",
   "metadata": {
    "heading_collapsed": true
   },
   "source": [
    "## Feature Engineering "
   ]
  },
  {
   "cell_type": "code",
   "execution_count": 8,
   "metadata": {
    "ExecuteTime": {
     "end_time": "2021-08-29T05:52:30.940293Z",
     "start_time": "2021-08-29T05:52:30.930320Z"
    },
    "hidden": true
   },
   "outputs": [],
   "source": [
    "def entropy(s):\n",
    "    l = float(len(s))\n",
    "    return (-sum(map(lambda a: (a / l) * math.log2(a / l),\n",
    "                     Counter(s).values())))"
   ]
  },
  {
   "cell_type": "code",
   "execution_count": 9,
   "metadata": {
    "ExecuteTime": {
     "end_time": "2021-08-29T05:52:31.972231Z",
     "start_time": "2021-08-29T05:52:31.952285Z"
    },
    "hidden": true
   },
   "outputs": [],
   "source": [
    "pos_family = {\n",
    "    'noun': ['NN', 'NNS', 'NNP', 'NNPS'],\n",
    "    'pron': ['PRP', 'PRP$', 'WP', 'WP$'],\n",
    "    'verb': ['VB', 'VBD', 'VBG', 'VBN', 'VBP', 'VBZ'],\n",
    "    'adj': ['JJ', 'JJR', 'JJS'],\n",
    "    'adv': ['RB', 'RBR', 'RBS', 'WRB']\n",
    "}\n",
    "\n",
    "\n",
    "def check_pos_tag(x, flag):\n",
    "    cnt = 0\n",
    "    try:\n",
    "        k = pd.Series([\n",
    "            list(x)[1] for x in nltk.pos_tag(nltk.word_tokenize(str(x)))\n",
    "        ]).value_counts()\n",
    "        for i in pos_family[flag]:\n",
    "            if i in k.index.tolist():\n",
    "                cnt = cnt + k[i]\n",
    "    except:\n",
    "        pass\n",
    "    return cnt"
   ]
  },
  {
   "cell_type": "code",
   "execution_count": 10,
   "metadata": {
    "ExecuteTime": {
     "end_time": "2021-08-29T05:52:33.061943Z",
     "start_time": "2021-08-29T05:52:33.041997Z"
    },
    "hidden": true
   },
   "outputs": [],
   "source": [
    "def extract_density_based_features(data, column='pre_processed_clean_hm'):\n",
    "    feature_df = pd.DataFrame()\n",
    "\n",
    "    feature_df['char_count'] = data[column].apply(len)\n",
    "    feature_df['content_word_count'] = data[column].swifter.set_npartitions(\n",
    "        8).apply(lambda x: len(str(x).split(\" \")))\n",
    "    feature_df['noun_count'] = data[column].swifter.set_npartitions(8).apply(\n",
    "        lambda x: check_pos_tag(x, 'noun'))\n",
    "    feature_df['verb_count'] = data[column].swifter.set_npartitions(8).apply(\n",
    "        lambda x: check_pos_tag(x, 'verb'))\n",
    "    feature_df['adj_count'] = data[column].swifter.set_npartitions(8).apply(\n",
    "        lambda x: check_pos_tag(x, 'adj'))\n",
    "    feature_df['adv_count'] = data[column].swifter.set_npartitions(8).apply(\n",
    "        lambda x: check_pos_tag(x, 'adv'))\n",
    "    feature_df['pron_count'] = data[column].swifter.set_npartitions(8).apply(\n",
    "        lambda x: check_pos_tag(x, 'pron'))\n",
    "    feature_df['word_density'] = feature_df['char_count'] / (\n",
    "        feature_df['content_word_count'] + 1)\n",
    "    feature_df['avg_word_length'] = feature_df['content_word_count'] / \\\n",
    "        (feature_df['char_count']+1)\n",
    "    feature_df['noun_density'] = feature_df['noun_count'] / (\n",
    "        feature_df['content_word_count'] + 1)\n",
    "    feature_df['verb_density'] = feature_df['verb_count'] / (\n",
    "        feature_df['content_word_count'] + 1)\n",
    "    feature_df['adj_density'] = feature_df['adj_count'] / (\n",
    "        feature_df['content_word_count'] + 1)\n",
    "    feature_df['adv_density'] = feature_df['adv_count'] / (\n",
    "        feature_df['content_word_count'] + 1)\n",
    "    feature_df['pron_density'] = feature_df['pron_count'] / (\n",
    "        feature_df['content_word_count'] + 1)\n",
    "    feature_df['avg_pos_density'] = (feature_df[[\n",
    "        'noun_density', 'verb_density', 'adj_density', 'adv_density',\n",
    "        'pron_density'\n",
    "    ]].sum(axis=1) / 5)\n",
    "    return feature_df"
   ]
  },
  {
   "cell_type": "code",
   "execution_count": 11,
   "metadata": {
    "ExecuteTime": {
     "end_time": "2021-08-29T05:52:33.623132Z",
     "start_time": "2021-08-29T05:52:33.599257Z"
    },
    "hidden": true
   },
   "outputs": [],
   "source": [
    "def add_static_column_features(data, column='cleaned_hm'):\n",
    "    feature_df = pd.DataFrame()\n",
    "\n",
    "    feature_df['no_of_dots'] = data[column].swifter.set_npartitions(8).apply(\n",
    "        lambda x: str(x).count('.')).copy()\n",
    "    feature_df['no_of_hyphen'] = data[column].swifter.set_npartitions(8).apply(\n",
    "        lambda x: str(x).count('-')).copy()\n",
    "    feature_df['no_of_underscore'] = data[column].swifter.set_npartitions(\n",
    "        8).apply(lambda x: str(x).count('_')).copy()\n",
    "    feature_df['no_of_equal'] = data[column].swifter.set_npartitions(8).apply(\n",
    "        lambda x: str(x).count('=')).copy()\n",
    "    feature_df['no_of_forward_slash'] = data[column].swifter.set_npartitions(\n",
    "        8).apply(lambda x: str(x).count('/')).copy()\n",
    "    feature_df['no_of_question_marks'] = data[column].swifter.set_npartitions(\n",
    "        8).apply(lambda x: str(x).count('?')).copy()\n",
    "    feature_df['no_of_semicolon'] = data[column].swifter.set_npartitions(\n",
    "        8).apply(lambda x: str(x).count(';')).copy()\n",
    "    feature_df['no_of_open_parenthesis'] = data[\n",
    "        column].swifter.set_npartitions(8).apply(\n",
    "            lambda x: str(x).count('(')).copy()\n",
    "    feature_df['no_of_close_parenthesis'] = data[\n",
    "        column].swifter.set_npartitions(8).apply(\n",
    "            lambda x: str(x).count(')')).copy()\n",
    "    feature_df['no_of_mod'] = data[column].swifter.set_npartitions(8).apply(\n",
    "        lambda x: str(x).count('%')).copy()\n",
    "    feature_df['no_of_ampersand'] = data[column].swifter.set_npartitions(\n",
    "        8).apply(lambda x: str(x).count('&')).copy()\n",
    "    feature_df['no_of_@'] = data[column].swifter.set_npartitions(8).apply(\n",
    "        lambda x: str(x).count('@')).copy()\n",
    "    feature_df['no_of_double_slash'] = data[column].swifter.set_npartitions(\n",
    "        8).apply(lambda x: str(x).count('//')).copy()\n",
    "    feature_df['no_of_digits'] = data[column].swifter.set_npartitions(8).apply(\n",
    "        lambda x: sum(c.isdigit() for c in x)).copy()\n",
    "    feature_df['column_entropy'] = data[column].swifter.set_npartitions(\n",
    "        8).apply(lambda x: entropy(x)).copy()\n",
    "    feature_df['no_of_characters'] = data[column].swifter.set_npartitions(\n",
    "        8).apply(len)\n",
    "    feature_df['no_of_tokens'] = data[column].swifter.set_npartitions(8).apply(\n",
    "        lambda x: len(str(x).split()))\n",
    "    feature_df['no_of_backslash'] = data[column].swifter.set_npartitions(\n",
    "        8).apply(lambda x: str(x).count('/'))\n",
    "    feature_df['no_of_double_backslash'] = data[\n",
    "        column].swifter.set_npartitions(8).apply(lambda x: str(x).count('//'))\n",
    "    feature_df['no_of_open_sq_bracket'] = data[column].swifter.set_npartitions(\n",
    "        8).apply(lambda x: str(x).count('['))\n",
    "    feature_df['no_of_close_sq_bracket'] = data[\n",
    "        column].swifter.set_npartitions(8).apply(lambda x: str(x).count(']'))\n",
    "    feature_df['no_of_open_curly_brace'] = data[\n",
    "        column].swifter.set_npartitions(8).apply(lambda x: str(x).count('{'))\n",
    "    feature_df['no_of_close_curly_brace'] = data[\n",
    "        column].swifter.set_npartitions(8).apply(lambda x: str(x).count('}'))\n",
    "    feature_df['no_of_dollor'] = data[column].swifter.set_npartitions(8).apply(\n",
    "        lambda x: str(x).count('$'))\n",
    "    feature_df['no_of_open_curly_brace'] = data[\n",
    "        column].swifter.set_npartitions(8).apply(lambda x: str(x).count('{'))\n",
    "    feature_df['no_of_plus'] = data[column].swifter.set_npartitions(8).apply(\n",
    "        lambda x: str(x).count('+'))\n",
    "    feature_df['no_of_special_character'] = data[\n",
    "        column].swifter.set_npartitions(8).apply(\n",
    "            lambda x: int(len(str(x) - len(re.findall('[\\w]', str(x))))))\n",
    "    feature_df['no_of_A_Z'] = data[column].swifter.set_npartitions(8).apply(\n",
    "        lambda x: len(re.findall(r'[A-Z]', str(x))))\n",
    "    feature_df['no_of_a_z'] = data[column].swifter.set_npartitions(8).apply(\n",
    "        lambda x: len(re.findall(r'[a-z]', str(x))))\n",
    "    feature_df['came_case_ratio'] = feature_df['no_of_A_Z'] / (\n",
    "        feature_df['no_of_a_z'] + 1)\n",
    "    return feature_df"
   ]
  },
  {
   "cell_type": "markdown",
   "metadata": {},
   "source": [
    "# Load Data"
   ]
  },
  {
   "cell_type": "code",
   "execution_count": 18,
   "metadata": {
    "ExecuteTime": {
     "end_time": "2021-08-29T06:28:29.018103Z",
     "start_time": "2021-08-29T06:28:28.904111Z"
    }
   },
   "outputs": [],
   "source": [
    "train = pd.read_csv(\"C:\\\\Users\\\\Zeus\\\\Downloads\\\\Road_To_Glory\\\\MakeMyTrip\\\\bff5c81a058811ec\\\\dataset\\\\train.csv\")\n",
    "test  = pd.read_csv(\"C:\\\\Users\\\\Zeus\\\\Downloads\\\\Road_To_Glory\\\\MakeMyTrip\\\\bff5c81a058811ec\\\\dataset\\\\test.csv\")"
   ]
  },
  {
   "cell_type": "markdown",
   "metadata": {},
   "source": [
    "## Data Understanding "
   ]
  },
  {
   "cell_type": "code",
   "execution_count": 19,
   "metadata": {
    "ExecuteTime": {
     "end_time": "2021-08-29T06:28:31.060230Z",
     "start_time": "2021-08-29T06:28:31.039285Z"
    },
    "scrolled": false
   },
   "outputs": [
    {
     "name": "stdout",
     "output_type": "stream",
     "text": [
      "(73147, 16)\n",
      "Index(['id', 'program_id', 'program_type', 'program_duration', 'test_id',\n",
      "       'test_type', 'difficulty_level', 'invigilator', 'gender', 'education',\n",
      "       'city_tier', 'age', 'total_programs_enrolled', 'is_handicapped',\n",
      "       'invigilator_engagement_rating', 'is_pass'],\n",
      "      dtype='object')\n"
     ]
    },
    {
     "data": {
      "text/html": [
       "<div>\n",
       "<style scoped>\n",
       "    .dataframe tbody tr th:only-of-type {\n",
       "        vertical-align: middle;\n",
       "    }\n",
       "\n",
       "    .dataframe tbody tr th {\n",
       "        vertical-align: top;\n",
       "    }\n",
       "\n",
       "    .dataframe thead th {\n",
       "        text-align: right;\n",
       "    }\n",
       "</style>\n",
       "<table border=\"1\" class=\"dataframe\">\n",
       "  <thead>\n",
       "    <tr style=\"text-align: right;\">\n",
       "      <th></th>\n",
       "      <th>id</th>\n",
       "      <th>program_id</th>\n",
       "      <th>program_type</th>\n",
       "      <th>program_duration</th>\n",
       "      <th>test_id</th>\n",
       "      <th>test_type</th>\n",
       "      <th>difficulty_level</th>\n",
       "      <th>invigilator</th>\n",
       "      <th>gender</th>\n",
       "      <th>education</th>\n",
       "      <th>city_tier</th>\n",
       "      <th>age</th>\n",
       "      <th>total_programs_enrolled</th>\n",
       "      <th>is_handicapped</th>\n",
       "      <th>invigilator_engagement_rating</th>\n",
       "      <th>is_pass</th>\n",
       "    </tr>\n",
       "  </thead>\n",
       "  <tbody>\n",
       "    <tr>\n",
       "      <th>0</th>\n",
       "      <td>9389_150</td>\n",
       "      <td>Y_1</td>\n",
       "      <td>Y</td>\n",
       "      <td>136</td>\n",
       "      <td>150</td>\n",
       "      <td>offline</td>\n",
       "      <td>intermediate</td>\n",
       "      <td>9389</td>\n",
       "      <td>M</td>\n",
       "      <td>High school (10th grade)</td>\n",
       "      <td>3</td>\n",
       "      <td>24.0</td>\n",
       "      <td>5</td>\n",
       "      <td>N</td>\n",
       "      <td>1.0</td>\n",
       "      <td>0</td>\n",
       "    </tr>\n",
       "    <tr>\n",
       "      <th>1</th>\n",
       "      <td>16523_44</td>\n",
       "      <td>T_1</td>\n",
       "      <td>T</td>\n",
       "      <td>131</td>\n",
       "      <td>44</td>\n",
       "      <td>offline</td>\n",
       "      <td>easy</td>\n",
       "      <td>16523</td>\n",
       "      <td>F</td>\n",
       "      <td>High School (12th grade)</td>\n",
       "      <td>4</td>\n",
       "      <td>26.0</td>\n",
       "      <td>2</td>\n",
       "      <td>N</td>\n",
       "      <td>3.0</td>\n",
       "      <td>1</td>\n",
       "    </tr>\n",
       "    <tr>\n",
       "      <th>2</th>\n",
       "      <td>13987_178</td>\n",
       "      <td>Z_2</td>\n",
       "      <td>Z</td>\n",
       "      <td>120</td>\n",
       "      <td>178</td>\n",
       "      <td>online</td>\n",
       "      <td>easy</td>\n",
       "      <td>13987</td>\n",
       "      <td>M</td>\n",
       "      <td>High school (10th grade)</td>\n",
       "      <td>1</td>\n",
       "      <td>40.0</td>\n",
       "      <td>1</td>\n",
       "      <td>N</td>\n",
       "      <td>2.0</td>\n",
       "      <td>1</td>\n",
       "    </tr>\n",
       "    <tr>\n",
       "      <th>3</th>\n",
       "      <td>13158_32</td>\n",
       "      <td>T_2</td>\n",
       "      <td>T</td>\n",
       "      <td>117</td>\n",
       "      <td>32</td>\n",
       "      <td>offline</td>\n",
       "      <td>easy</td>\n",
       "      <td>13158</td>\n",
       "      <td>F</td>\n",
       "      <td>High school (10th grade)</td>\n",
       "      <td>3</td>\n",
       "      <td>NaN</td>\n",
       "      <td>4</td>\n",
       "      <td>N</td>\n",
       "      <td>1.0</td>\n",
       "      <td>1</td>\n",
       "    </tr>\n",
       "    <tr>\n",
       "      <th>4</th>\n",
       "      <td>10591_84</td>\n",
       "      <td>V_3</td>\n",
       "      <td>V</td>\n",
       "      <td>131</td>\n",
       "      <td>84</td>\n",
       "      <td>offline</td>\n",
       "      <td>intermediate</td>\n",
       "      <td>10591</td>\n",
       "      <td>F</td>\n",
       "      <td>High School (12th grade)</td>\n",
       "      <td>1</td>\n",
       "      <td>42.0</td>\n",
       "      <td>2</td>\n",
       "      <td>N</td>\n",
       "      <td>4.0</td>\n",
       "      <td>1</td>\n",
       "    </tr>\n",
       "  </tbody>\n",
       "</table>\n",
       "</div>"
      ],
      "text/plain": [
       "          id program_id program_type  program_duration  test_id test_type  \\\n",
       "0   9389_150        Y_1            Y               136      150   offline   \n",
       "1   16523_44        T_1            T               131       44   offline   \n",
       "2  13987_178        Z_2            Z               120      178    online   \n",
       "3   13158_32        T_2            T               117       32   offline   \n",
       "4   10591_84        V_3            V               131       84   offline   \n",
       "\n",
       "  difficulty_level  invigilator gender                 education  city_tier  \\\n",
       "0     intermediate         9389      M  High school (10th grade)          3   \n",
       "1             easy        16523      F  High School (12th grade)          4   \n",
       "2             easy        13987      M  High school (10th grade)          1   \n",
       "3             easy        13158      F  High school (10th grade)          3   \n",
       "4     intermediate        10591      F  High School (12th grade)          1   \n",
       "\n",
       "    age  total_programs_enrolled is_handicapped  \\\n",
       "0  24.0                        5              N   \n",
       "1  26.0                        2              N   \n",
       "2  40.0                        1              N   \n",
       "3   NaN                        4              N   \n",
       "4  42.0                        2              N   \n",
       "\n",
       "   invigilator_engagement_rating  is_pass  \n",
       "0                            1.0        0  \n",
       "1                            3.0        1  \n",
       "2                            2.0        1  \n",
       "3                            1.0        1  \n",
       "4                            4.0        1  "
      ]
     },
     "execution_count": 19,
     "metadata": {},
     "output_type": "execute_result"
    }
   ],
   "source": [
    "print(train.shape)\n",
    "print(train.columns)\n",
    "train.head()"
   ]
  },
  {
   "cell_type": "code",
   "execution_count": 20,
   "metadata": {
    "ExecuteTime": {
     "end_time": "2021-08-29T06:28:32.244653Z",
     "start_time": "2021-08-29T06:28:32.229693Z"
    },
    "scrolled": false
   },
   "outputs": [
    {
     "name": "stdout",
     "output_type": "stream",
     "text": [
      "(31349, 15)\n",
      "Index(['id', 'program_id', 'program_type', 'program_duration', 'test_id',\n",
      "       'test_type', 'difficulty_level', 'invigilator', 'gender', 'education',\n",
      "       'city_tier', 'age', 'total_programs_enrolled', 'is_handicapped',\n",
      "       'invigilator_engagement_rating'],\n",
      "      dtype='object')\n"
     ]
    },
    {
     "data": {
      "text/html": [
       "<div>\n",
       "<style scoped>\n",
       "    .dataframe tbody tr th:only-of-type {\n",
       "        vertical-align: middle;\n",
       "    }\n",
       "\n",
       "    .dataframe tbody tr th {\n",
       "        vertical-align: top;\n",
       "    }\n",
       "\n",
       "    .dataframe thead th {\n",
       "        text-align: right;\n",
       "    }\n",
       "</style>\n",
       "<table border=\"1\" class=\"dataframe\">\n",
       "  <thead>\n",
       "    <tr style=\"text-align: right;\">\n",
       "      <th></th>\n",
       "      <th>id</th>\n",
       "      <th>program_id</th>\n",
       "      <th>program_type</th>\n",
       "      <th>program_duration</th>\n",
       "      <th>test_id</th>\n",
       "      <th>test_type</th>\n",
       "      <th>difficulty_level</th>\n",
       "      <th>invigilator</th>\n",
       "      <th>gender</th>\n",
       "      <th>education</th>\n",
       "      <th>city_tier</th>\n",
       "      <th>age</th>\n",
       "      <th>total_programs_enrolled</th>\n",
       "      <th>is_handicapped</th>\n",
       "      <th>invigilator_engagement_rating</th>\n",
       "    </tr>\n",
       "  </thead>\n",
       "  <tbody>\n",
       "    <tr>\n",
       "      <th>0</th>\n",
       "      <td>1626_45</td>\n",
       "      <td>T_1</td>\n",
       "      <td>T</td>\n",
       "      <td>131</td>\n",
       "      <td>45</td>\n",
       "      <td>offline</td>\n",
       "      <td>Medium</td>\n",
       "      <td>1626</td>\n",
       "      <td>F</td>\n",
       "      <td>High school (10th grade)</td>\n",
       "      <td>3</td>\n",
       "      <td>46.0</td>\n",
       "      <td>2</td>\n",
       "      <td>N</td>\n",
       "      <td>4.0</td>\n",
       "    </tr>\n",
       "    <tr>\n",
       "      <th>1</th>\n",
       "      <td>11020_130</td>\n",
       "      <td>Y_3</td>\n",
       "      <td>Y</td>\n",
       "      <td>135</td>\n",
       "      <td>130</td>\n",
       "      <td>online</td>\n",
       "      <td>Easy</td>\n",
       "      <td>11020</td>\n",
       "      <td>M</td>\n",
       "      <td>Bachelor's</td>\n",
       "      <td>3</td>\n",
       "      <td>NaN</td>\n",
       "      <td>4</td>\n",
       "      <td>N</td>\n",
       "      <td>4.0</td>\n",
       "    </tr>\n",
       "    <tr>\n",
       "      <th>2</th>\n",
       "      <td>12652_146</td>\n",
       "      <td>Y_2</td>\n",
       "      <td>Y</td>\n",
       "      <td>120</td>\n",
       "      <td>146</td>\n",
       "      <td>online</td>\n",
       "      <td>Easy</td>\n",
       "      <td>12652</td>\n",
       "      <td>M</td>\n",
       "      <td>High school (10th grade)</td>\n",
       "      <td>3</td>\n",
       "      <td>NaN</td>\n",
       "      <td>2</td>\n",
       "      <td>N</td>\n",
       "      <td>3.0</td>\n",
       "    </tr>\n",
       "    <tr>\n",
       "      <th>3</th>\n",
       "      <td>7038_72</td>\n",
       "      <td>V_4</td>\n",
       "      <td>V</td>\n",
       "      <td>122</td>\n",
       "      <td>72</td>\n",
       "      <td>offline</td>\n",
       "      <td>Very hard</td>\n",
       "      <td>7038</td>\n",
       "      <td>F</td>\n",
       "      <td>High School (12th grade)</td>\n",
       "      <td>1</td>\n",
       "      <td>NaN</td>\n",
       "      <td>2</td>\n",
       "      <td>N</td>\n",
       "      <td>2.0</td>\n",
       "    </tr>\n",
       "    <tr>\n",
       "      <th>4</th>\n",
       "      <td>888_71</td>\n",
       "      <td>V_4</td>\n",
       "      <td>V</td>\n",
       "      <td>122</td>\n",
       "      <td>71</td>\n",
       "      <td>offline</td>\n",
       "      <td>Medium</td>\n",
       "      <td>888</td>\n",
       "      <td>F</td>\n",
       "      <td>High school (10th grade)</td>\n",
       "      <td>3</td>\n",
       "      <td>NaN</td>\n",
       "      <td>2</td>\n",
       "      <td>N</td>\n",
       "      <td>2.0</td>\n",
       "    </tr>\n",
       "  </tbody>\n",
       "</table>\n",
       "</div>"
      ],
      "text/plain": [
       "          id program_id program_type  program_duration  test_id test_type  \\\n",
       "0    1626_45        T_1            T               131       45   offline   \n",
       "1  11020_130        Y_3            Y               135      130    online   \n",
       "2  12652_146        Y_2            Y               120      146    online   \n",
       "3    7038_72        V_4            V               122       72   offline   \n",
       "4     888_71        V_4            V               122       71   offline   \n",
       "\n",
       "  difficulty_level  invigilator gender                 education  city_tier  \\\n",
       "0           Medium         1626      F  High school (10th grade)          3   \n",
       "1             Easy        11020      M                Bachelor's          3   \n",
       "2             Easy        12652      M  High school (10th grade)          3   \n",
       "3        Very hard         7038      F  High School (12th grade)          1   \n",
       "4           Medium          888      F  High school (10th grade)          3   \n",
       "\n",
       "    age  total_programs_enrolled is_handicapped  invigilator_engagement_rating  \n",
       "0  46.0                        2              N                            4.0  \n",
       "1   NaN                        4              N                            4.0  \n",
       "2   NaN                        2              N                            3.0  \n",
       "3   NaN                        2              N                            2.0  \n",
       "4   NaN                        2              N                            2.0  "
      ]
     },
     "execution_count": 20,
     "metadata": {},
     "output_type": "execute_result"
    }
   ],
   "source": [
    "print(test.shape)\n",
    "print(test.columns)\n",
    "test.head()"
   ]
  },
  {
   "cell_type": "markdown",
   "metadata": {},
   "source": [
    "## Data Pre-Processing "
   ]
  },
  {
   "cell_type": "code",
   "execution_count": 21,
   "metadata": {
    "ExecuteTime": {
     "end_time": "2021-08-29T06:30:11.447507Z",
     "start_time": "2021-08-29T06:30:11.437535Z"
    }
   },
   "outputs": [
    {
     "data": {
      "text/plain": [
       "id                                object\n",
       "program_id                        object\n",
       "program_type                      object\n",
       "program_duration                   int64\n",
       "test_id                            int64\n",
       "test_type                         object\n",
       "difficulty_level                  object\n",
       "invigilator                        int64\n",
       "gender                            object\n",
       "education                         object\n",
       "city_tier                          int64\n",
       "age                              float64\n",
       "total_programs_enrolled            int64\n",
       "is_handicapped                    object\n",
       "invigilator_engagement_rating    float64\n",
       "is_pass                            int64\n",
       "dtype: object"
      ]
     },
     "execution_count": 21,
     "metadata": {},
     "output_type": "execute_result"
    }
   ],
   "source": [
    "train.dtypes"
   ]
  },
  {
   "cell_type": "code",
   "execution_count": 22,
   "metadata": {
    "ExecuteTime": {
     "end_time": "2021-08-29T06:30:13.689392Z",
     "start_time": "2021-08-29T06:30:13.655483Z"
    }
   },
   "outputs": [
    {
     "data": {
      "text/plain": [
       "id                                   0\n",
       "program_id                           0\n",
       "program_type                         0\n",
       "program_duration                     0\n",
       "test_id                              0\n",
       "test_type                            0\n",
       "difficulty_level                     0\n",
       "invigilator                          0\n",
       "gender                               0\n",
       "education                            0\n",
       "city_tier                            0\n",
       "age                              27729\n",
       "total_programs_enrolled              0\n",
       "is_handicapped                       0\n",
       "invigilator_engagement_rating       77\n",
       "is_pass                              0\n",
       "dtype: int64"
      ]
     },
     "execution_count": 22,
     "metadata": {},
     "output_type": "execute_result"
    }
   ],
   "source": [
    "train.isnull().sum()"
   ]
  },
  {
   "cell_type": "code",
   "execution_count": 46,
   "metadata": {
    "ExecuteTime": {
     "end_time": "2021-08-29T06:42:12.201364Z",
     "start_time": "2021-08-29T06:42:12.176431Z"
    }
   },
   "outputs": [
    {
     "data": {
      "text/plain": [
       "id                                   0\n",
       "program_id                           0\n",
       "program_type                         0\n",
       "program_duration                     0\n",
       "test_id                              0\n",
       "test_type                            0\n",
       "difficulty_level                     0\n",
       "invigilator                          0\n",
       "gender                               0\n",
       "education                            0\n",
       "city_tier                            0\n",
       "age                              11791\n",
       "total_programs_enrolled              0\n",
       "is_handicapped                       0\n",
       "invigilator_engagement_rating       31\n",
       "dtype: int64"
      ]
     },
     "execution_count": 46,
     "metadata": {},
     "output_type": "execute_result"
    }
   ],
   "source": [
    "test.isnull().sum()"
   ]
  },
  {
   "cell_type": "code",
   "execution_count": 23,
   "metadata": {
    "ExecuteTime": {
     "end_time": "2021-08-29T06:31:16.138813Z",
     "start_time": "2021-08-29T06:31:16.119867Z"
    }
   },
   "outputs": [
    {
     "data": {
      "text/plain": [
       "1    50867\n",
       "0    22280\n",
       "Name: is_pass, dtype: int64"
      ]
     },
     "execution_count": 23,
     "metadata": {},
     "output_type": "execute_result"
    }
   ],
   "source": [
    "train.is_pass.value_counts()"
   ]
  },
  {
   "cell_type": "code",
   "execution_count": 26,
   "metadata": {
    "ExecuteTime": {
     "end_time": "2021-08-29T06:32:25.728778Z",
     "start_time": "2021-08-29T06:32:25.522322Z"
    }
   },
   "outputs": [
    {
     "data": {
      "text/plain": [
       "id                               73147\n",
       "program_id                          22\n",
       "program_type                         7\n",
       "program_duration                    10\n",
       "test_id                            188\n",
       "test_type                            2\n",
       "difficulty_level                     4\n",
       "invigilator                      18500\n",
       "gender                               2\n",
       "education                            5\n",
       "city_tier                            4\n",
       "age                              27774\n",
       "total_programs_enrolled             13\n",
       "is_handicapped                       2\n",
       "invigilator_engagement_rating       82\n",
       "is_pass                              2\n",
       "dtype: int64"
      ]
     },
     "execution_count": 26,
     "metadata": {},
     "output_type": "execute_result"
    }
   ],
   "source": [
    "train.apply(lambda x : len(np.unique(x)))"
   ]
  },
  {
   "cell_type": "code",
   "execution_count": 36,
   "metadata": {
    "ExecuteTime": {
     "end_time": "2021-08-29T06:36:08.790119Z",
     "start_time": "2021-08-29T06:36:08.762194Z"
    }
   },
   "outputs": [
    {
     "data": {
      "text/html": [
       "<div>\n",
       "<style scoped>\n",
       "    .dataframe tbody tr th:only-of-type {\n",
       "        vertical-align: middle;\n",
       "    }\n",
       "\n",
       "    .dataframe tbody tr th {\n",
       "        vertical-align: top;\n",
       "    }\n",
       "\n",
       "    .dataframe thead th {\n",
       "        text-align: right;\n",
       "    }\n",
       "</style>\n",
       "<table border=\"1\" class=\"dataframe\">\n",
       "  <thead>\n",
       "    <tr style=\"text-align: right;\">\n",
       "      <th>is_pass</th>\n",
       "      <th>0</th>\n",
       "      <th>1</th>\n",
       "    </tr>\n",
       "    <tr>\n",
       "      <th>is_handicapped</th>\n",
       "      <th></th>\n",
       "      <th></th>\n",
       "    </tr>\n",
       "  </thead>\n",
       "  <tbody>\n",
       "    <tr>\n",
       "      <th>N</th>\n",
       "      <td>19923</td>\n",
       "      <td>46654</td>\n",
       "    </tr>\n",
       "    <tr>\n",
       "      <th>Y</th>\n",
       "      <td>2357</td>\n",
       "      <td>4213</td>\n",
       "    </tr>\n",
       "  </tbody>\n",
       "</table>\n",
       "</div>"
      ],
      "text/plain": [
       "is_pass             0      1\n",
       "is_handicapped              \n",
       "N               19923  46654\n",
       "Y                2357   4213"
      ]
     },
     "execution_count": 36,
     "metadata": {},
     "output_type": "execute_result"
    }
   ],
   "source": [
    "pd.crosstab(train.is_handicapped,train.is_pass)"
   ]
  },
  {
   "cell_type": "markdown",
   "metadata": {},
   "source": [
    "# Feature Engineering "
   ]
  },
  {
   "cell_type": "code",
   "execution_count": 157,
   "metadata": {
    "ExecuteTime": {
     "end_time": "2021-08-29T07:22:01.437053Z",
     "start_time": "2021-08-29T07:22:01.426082Z"
    }
   },
   "outputs": [],
   "source": [
    "feature_df_train = pd.DataFrame()\n",
    "feature_df_test = pd.DataFrame()"
   ]
  },
  {
   "cell_type": "code",
   "execution_count": 158,
   "metadata": {
    "ExecuteTime": {
     "end_time": "2021-08-29T07:22:01.923361Z",
     "start_time": "2021-08-29T07:22:01.890449Z"
    }
   },
   "outputs": [],
   "source": [
    "feature_df_train['p_type'] = pd.Series(\n",
    "    np.where(\n",
    "        train.program_type == 'Y', 0,\n",
    "        np.where(\n",
    "            train.program_type == 'T', 1,\n",
    "            np.where(\n",
    "                train.program_type == 'Z', 2,\n",
    "                np.where(\n",
    "                    train.program_type == 'V', 3,\n",
    "                    np.where(train.program_type == 'U', 4,\n",
    "                             np.where(train.program_type == 'X', 5, 6)))))))"
   ]
  },
  {
   "cell_type": "code",
   "execution_count": 159,
   "metadata": {
    "ExecuteTime": {
     "end_time": "2021-08-29T07:22:02.332614Z",
     "start_time": "2021-08-29T07:22:02.313665Z"
    }
   },
   "outputs": [],
   "source": [
    "feature_df_test['p_type'] = pd.Series(\n",
    "    np.where(\n",
    "        test.program_type == 'Y', 0,\n",
    "        np.where(\n",
    "            test.program_type == 'T', 1,\n",
    "            np.where(\n",
    "                test.program_type == 'Z', 2,\n",
    "                np.where(\n",
    "                    test.program_type == 'V', 3,\n",
    "                    np.where(test.program_type == 'U', 4,\n",
    "                             np.where(test.program_type == 'X', 5, 6)))))))"
   ]
  },
  {
   "cell_type": "code",
   "execution_count": 160,
   "metadata": {
    "ExecuteTime": {
     "end_time": "2021-08-29T07:22:02.740252Z",
     "start_time": "2021-08-29T07:22:02.690469Z"
    }
   },
   "outputs": [],
   "source": [
    "feature_df_train['program_duration'] = train.program_duration\n",
    "feature_df_test['program_duration'] =test.program_duration\n",
    "feature_df_train['t_type'] = train.test_type.apply(lambda x: 1 if str(x)=='offline' else 0)\n",
    "feature_df_test['t_type'] = test.test_type.apply(lambda x: 1 if str(x)=='offline' else 0)"
   ]
  },
  {
   "cell_type": "code",
   "execution_count": 161,
   "metadata": {
    "ExecuteTime": {
     "end_time": "2021-08-29T07:22:03.104081Z",
     "start_time": "2021-08-29T07:22:03.088125Z"
    }
   },
   "outputs": [],
   "source": [
    "feature_df_train['d_level'] = np.where(\n",
    "    train.difficulty_level == 'easy', 0,\n",
    "    np.where(train.difficulty_level == 'intermediate', 1,\n",
    "             np.where(train.difficulty_level == 'hard', 2, 3)))"
   ]
  },
  {
   "cell_type": "code",
   "execution_count": 162,
   "metadata": {
    "ExecuteTime": {
     "end_time": "2021-08-29T07:22:03.496089Z",
     "start_time": "2021-08-29T07:22:03.481130Z"
    }
   },
   "outputs": [],
   "source": [
    "feature_df_test['d_level'] = np.where(\n",
    "    test.difficulty_level == 'easy', 0,\n",
    "    np.where(test.difficulty_level == 'intermediate', 1,\n",
    "             np.where(test.difficulty_level == 'hard', 2, 3)))"
   ]
  },
  {
   "cell_type": "code",
   "execution_count": 163,
   "metadata": {
    "ExecuteTime": {
     "end_time": "2021-08-29T07:22:04.073374Z",
     "start_time": "2021-08-29T07:22:04.025422Z"
    }
   },
   "outputs": [],
   "source": [
    "feature_df_train['g'] = train.gender.apply(lambda x: 1 if str(x)=='F' else 0)\n",
    "feature_df_test['g'] = test.gender.apply(lambda x: 1 if str(x)=='F' else 0)"
   ]
  },
  {
   "cell_type": "code",
   "execution_count": 164,
   "metadata": {
    "ExecuteTime": {
     "end_time": "2021-08-29T07:22:04.387742Z",
     "start_time": "2021-08-29T07:22:04.357823Z"
    }
   },
   "outputs": [],
   "source": [
    "feature_df_train['e_level'] = np.where(\n",
    "    train.education == 'No qualification', 0,\n",
    "    np.where(\n",
    "        train.education == 'High school (10th grade)', 1,\n",
    "        np.where(train.education == 'High School (12th grade)', 2,\n",
    "                 np.where(train.education == \"Bachelor's\", 3, 4))))"
   ]
  },
  {
   "cell_type": "code",
   "execution_count": 165,
   "metadata": {
    "ExecuteTime": {
     "end_time": "2021-08-29T07:22:04.667474Z",
     "start_time": "2021-08-29T07:22:04.656503Z"
    }
   },
   "outputs": [],
   "source": [
    "feature_df_test['e_level'] = np.where(\n",
    "    test.education == 'No qualification', 0,\n",
    "    np.where(\n",
    "        test.education == 'High school (10th grade)', 1,\n",
    "        np.where(test.education == 'High School (12th grade)', 2,\n",
    "                 np.where(test.education == \"Bachelor's\", 3, 4))))"
   ]
  },
  {
   "cell_type": "code",
   "execution_count": 166,
   "metadata": {
    "ExecuteTime": {
     "end_time": "2021-08-29T07:22:05.120638Z",
     "start_time": "2021-08-29T07:22:05.063325Z"
    }
   },
   "outputs": [],
   "source": [
    "feature_df_train['c_level'] = train.city_tier\n",
    "feature_df_test['c_level'] = test.city_tier\n",
    "feature_df_train['age'] = train.age.fillna(train.age.mean())\n",
    "feature_df_test['age'] = test.age.fillna(train.age.mean())\n",
    "feature_df_train['total_programs_enrolled'] = train.total_programs_enrolled\n",
    "feature_df_test['total_programs_enrolled'] = test.total_programs_enrolled\n",
    "feature_df_train['is_handicapped'] = train.is_handicapped.apply(\n",
    "    lambda x: 1 if str(x) == 'Y' else 0)\n",
    "feature_df_test['is_handicapped'] = test.is_handicapped.apply(\n",
    "    lambda x: 1 if str(x) == 'Y' else 0)\n",
    "feature_df_train[\n",
    "    'invigilator_engagement_rating'] = train.invigilator_engagement_rating.fillna(\n",
    "        -99)\n",
    "feature_df_test[\n",
    "    'invigilator_engagement_rating'] = test.invigilator_engagement_rating.fillna(\n",
    "        -99)"
   ]
  },
  {
   "cell_type": "code",
   "execution_count": 167,
   "metadata": {
    "ExecuteTime": {
     "end_time": "2021-08-29T07:22:05.954253Z",
     "start_time": "2021-08-29T07:22:05.942287Z"
    }
   },
   "outputs": [],
   "source": [
    "feature_df_train[\n",
    "    'target'] = train.is_pass"
   ]
  },
  {
   "cell_type": "code",
   "execution_count": 168,
   "metadata": {
    "ExecuteTime": {
     "end_time": "2021-08-29T07:22:06.380526Z",
     "start_time": "2021-08-29T07:22:06.369579Z"
    }
   },
   "outputs": [
    {
     "name": "stdout",
     "output_type": "stream",
     "text": [
      "(73147, 12)\n"
     ]
    },
    {
     "data": {
      "text/html": [
       "<div>\n",
       "<style scoped>\n",
       "    .dataframe tbody tr th:only-of-type {\n",
       "        vertical-align: middle;\n",
       "    }\n",
       "\n",
       "    .dataframe tbody tr th {\n",
       "        vertical-align: top;\n",
       "    }\n",
       "\n",
       "    .dataframe thead th {\n",
       "        text-align: right;\n",
       "    }\n",
       "</style>\n",
       "<table border=\"1\" class=\"dataframe\">\n",
       "  <thead>\n",
       "    <tr style=\"text-align: right;\">\n",
       "      <th></th>\n",
       "      <th>p_type</th>\n",
       "      <th>program_duration</th>\n",
       "      <th>t_type</th>\n",
       "      <th>d_level</th>\n",
       "      <th>g</th>\n",
       "      <th>e_level</th>\n",
       "      <th>c_level</th>\n",
       "      <th>age</th>\n",
       "      <th>total_programs_enrolled</th>\n",
       "      <th>is_handicapped</th>\n",
       "      <th>invigilator_engagement_rating</th>\n",
       "      <th>target</th>\n",
       "    </tr>\n",
       "  </thead>\n",
       "  <tbody>\n",
       "    <tr>\n",
       "      <th>0</th>\n",
       "      <td>0</td>\n",
       "      <td>136</td>\n",
       "      <td>1</td>\n",
       "      <td>1</td>\n",
       "      <td>0</td>\n",
       "      <td>1</td>\n",
       "      <td>3</td>\n",
       "      <td>24.000000</td>\n",
       "      <td>5</td>\n",
       "      <td>0</td>\n",
       "      <td>1.0</td>\n",
       "      <td>0</td>\n",
       "    </tr>\n",
       "    <tr>\n",
       "      <th>1</th>\n",
       "      <td>1</td>\n",
       "      <td>131</td>\n",
       "      <td>1</td>\n",
       "      <td>0</td>\n",
       "      <td>1</td>\n",
       "      <td>2</td>\n",
       "      <td>4</td>\n",
       "      <td>26.000000</td>\n",
       "      <td>2</td>\n",
       "      <td>0</td>\n",
       "      <td>3.0</td>\n",
       "      <td>1</td>\n",
       "    </tr>\n",
       "    <tr>\n",
       "      <th>2</th>\n",
       "      <td>2</td>\n",
       "      <td>120</td>\n",
       "      <td>0</td>\n",
       "      <td>0</td>\n",
       "      <td>0</td>\n",
       "      <td>1</td>\n",
       "      <td>1</td>\n",
       "      <td>40.000000</td>\n",
       "      <td>1</td>\n",
       "      <td>0</td>\n",
       "      <td>2.0</td>\n",
       "      <td>1</td>\n",
       "    </tr>\n",
       "    <tr>\n",
       "      <th>3</th>\n",
       "      <td>1</td>\n",
       "      <td>117</td>\n",
       "      <td>1</td>\n",
       "      <td>0</td>\n",
       "      <td>1</td>\n",
       "      <td>1</td>\n",
       "      <td>3</td>\n",
       "      <td>36.494033</td>\n",
       "      <td>4</td>\n",
       "      <td>0</td>\n",
       "      <td>1.0</td>\n",
       "      <td>1</td>\n",
       "    </tr>\n",
       "    <tr>\n",
       "      <th>4</th>\n",
       "      <td>3</td>\n",
       "      <td>131</td>\n",
       "      <td>1</td>\n",
       "      <td>1</td>\n",
       "      <td>1</td>\n",
       "      <td>2</td>\n",
       "      <td>1</td>\n",
       "      <td>42.000000</td>\n",
       "      <td>2</td>\n",
       "      <td>0</td>\n",
       "      <td>4.0</td>\n",
       "      <td>1</td>\n",
       "    </tr>\n",
       "  </tbody>\n",
       "</table>\n",
       "</div>"
      ],
      "text/plain": [
       "   p_type  program_duration  t_type  d_level  g  e_level  c_level        age  \\\n",
       "0       0               136       1        1  0        1        3  24.000000   \n",
       "1       1               131       1        0  1        2        4  26.000000   \n",
       "2       2               120       0        0  0        1        1  40.000000   \n",
       "3       1               117       1        0  1        1        3  36.494033   \n",
       "4       3               131       1        1  1        2        1  42.000000   \n",
       "\n",
       "   total_programs_enrolled  is_handicapped  invigilator_engagement_rating  \\\n",
       "0                        5               0                            1.0   \n",
       "1                        2               0                            3.0   \n",
       "2                        1               0                            2.0   \n",
       "3                        4               0                            1.0   \n",
       "4                        2               0                            4.0   \n",
       "\n",
       "   target  \n",
       "0       0  \n",
       "1       1  \n",
       "2       1  \n",
       "3       1  \n",
       "4       1  "
      ]
     },
     "metadata": {},
     "output_type": "display_data"
    }
   ],
   "source": [
    "print(feature_df_train.shape)\n",
    "display(feature_df_train.head())"
   ]
  },
  {
   "cell_type": "code",
   "execution_count": 169,
   "metadata": {
    "ExecuteTime": {
     "end_time": "2021-08-29T07:22:08.686314Z",
     "start_time": "2021-08-29T07:22:08.674346Z"
    }
   },
   "outputs": [
    {
     "name": "stdout",
     "output_type": "stream",
     "text": [
      "(31349, 11)\n"
     ]
    },
    {
     "data": {
      "text/html": [
       "<div>\n",
       "<style scoped>\n",
       "    .dataframe tbody tr th:only-of-type {\n",
       "        vertical-align: middle;\n",
       "    }\n",
       "\n",
       "    .dataframe tbody tr th {\n",
       "        vertical-align: top;\n",
       "    }\n",
       "\n",
       "    .dataframe thead th {\n",
       "        text-align: right;\n",
       "    }\n",
       "</style>\n",
       "<table border=\"1\" class=\"dataframe\">\n",
       "  <thead>\n",
       "    <tr style=\"text-align: right;\">\n",
       "      <th></th>\n",
       "      <th>p_type</th>\n",
       "      <th>program_duration</th>\n",
       "      <th>t_type</th>\n",
       "      <th>d_level</th>\n",
       "      <th>g</th>\n",
       "      <th>e_level</th>\n",
       "      <th>c_level</th>\n",
       "      <th>age</th>\n",
       "      <th>total_programs_enrolled</th>\n",
       "      <th>is_handicapped</th>\n",
       "      <th>invigilator_engagement_rating</th>\n",
       "    </tr>\n",
       "  </thead>\n",
       "  <tbody>\n",
       "    <tr>\n",
       "      <th>0</th>\n",
       "      <td>1</td>\n",
       "      <td>131</td>\n",
       "      <td>1</td>\n",
       "      <td>3</td>\n",
       "      <td>1</td>\n",
       "      <td>1</td>\n",
       "      <td>3</td>\n",
       "      <td>46.000000</td>\n",
       "      <td>2</td>\n",
       "      <td>0</td>\n",
       "      <td>4.0</td>\n",
       "    </tr>\n",
       "    <tr>\n",
       "      <th>1</th>\n",
       "      <td>0</td>\n",
       "      <td>135</td>\n",
       "      <td>0</td>\n",
       "      <td>3</td>\n",
       "      <td>0</td>\n",
       "      <td>3</td>\n",
       "      <td>3</td>\n",
       "      <td>36.494033</td>\n",
       "      <td>4</td>\n",
       "      <td>0</td>\n",
       "      <td>4.0</td>\n",
       "    </tr>\n",
       "    <tr>\n",
       "      <th>2</th>\n",
       "      <td>0</td>\n",
       "      <td>120</td>\n",
       "      <td>0</td>\n",
       "      <td>3</td>\n",
       "      <td>0</td>\n",
       "      <td>1</td>\n",
       "      <td>3</td>\n",
       "      <td>36.494033</td>\n",
       "      <td>2</td>\n",
       "      <td>0</td>\n",
       "      <td>3.0</td>\n",
       "    </tr>\n",
       "    <tr>\n",
       "      <th>3</th>\n",
       "      <td>3</td>\n",
       "      <td>122</td>\n",
       "      <td>1</td>\n",
       "      <td>3</td>\n",
       "      <td>1</td>\n",
       "      <td>2</td>\n",
       "      <td>1</td>\n",
       "      <td>36.494033</td>\n",
       "      <td>2</td>\n",
       "      <td>0</td>\n",
       "      <td>2.0</td>\n",
       "    </tr>\n",
       "    <tr>\n",
       "      <th>4</th>\n",
       "      <td>3</td>\n",
       "      <td>122</td>\n",
       "      <td>1</td>\n",
       "      <td>3</td>\n",
       "      <td>1</td>\n",
       "      <td>1</td>\n",
       "      <td>3</td>\n",
       "      <td>36.494033</td>\n",
       "      <td>2</td>\n",
       "      <td>0</td>\n",
       "      <td>2.0</td>\n",
       "    </tr>\n",
       "  </tbody>\n",
       "</table>\n",
       "</div>"
      ],
      "text/plain": [
       "   p_type  program_duration  t_type  d_level  g  e_level  c_level        age  \\\n",
       "0       1               131       1        3  1        1        3  46.000000   \n",
       "1       0               135       0        3  0        3        3  36.494033   \n",
       "2       0               120       0        3  0        1        3  36.494033   \n",
       "3       3               122       1        3  1        2        1  36.494033   \n",
       "4       3               122       1        3  1        1        3  36.494033   \n",
       "\n",
       "   total_programs_enrolled  is_handicapped  invigilator_engagement_rating  \n",
       "0                        2               0                            4.0  \n",
       "1                        4               0                            4.0  \n",
       "2                        2               0                            3.0  \n",
       "3                        2               0                            2.0  \n",
       "4                        2               0                            2.0  "
      ]
     },
     "metadata": {},
     "output_type": "display_data"
    }
   ],
   "source": [
    "print(feature_df_test.shape)\n",
    "display(feature_df_test.head())"
   ]
  },
  {
   "cell_type": "markdown",
   "metadata": {},
   "source": [
    "# Feature Selection"
   ]
  },
  {
   "cell_type": "markdown",
   "metadata": {},
   "source": [
    "## Drop Duplicates "
   ]
  },
  {
   "cell_type": "code",
   "execution_count": 124,
   "metadata": {
    "ExecuteTime": {
     "end_time": "2021-08-29T07:11:28.212269Z",
     "start_time": "2021-08-29T07:11:28.184341Z"
    }
   },
   "outputs": [],
   "source": [
    "feature_df_train = feature_df_train[~feature_df_train.duplicated()]"
   ]
  },
  {
   "cell_type": "markdown",
   "metadata": {},
   "source": [
    "## Correlation Drop"
   ]
  },
  {
   "cell_type": "code",
   "execution_count": 125,
   "metadata": {
    "ExecuteTime": {
     "end_time": "2021-08-29T07:11:30.016440Z",
     "start_time": "2021-08-29T07:11:29.986520Z"
    }
   },
   "outputs": [],
   "source": [
    "cor_matrix = feature_df_train[feature_df_train.columns.tolist()[:-1]].corr().abs()\n",
    "upper_tri = cor_matrix.where(\n",
    "    np.triu(np.ones(cor_matrix.shape), k=1).astype(np.bool))\n",
    "to_drop = [\n",
    "    column for column in upper_tri.columns if any(upper_tri[column] > 0.90)\n",
    "]\n",
    "del cor_matrix, upper_tri"
   ]
  },
  {
   "cell_type": "markdown",
   "metadata": {},
   "source": [
    "## Zero Variance Drop"
   ]
  },
  {
   "cell_type": "code",
   "execution_count": 126,
   "metadata": {
    "ExecuteTime": {
     "end_time": "2021-08-29T07:11:30.801271Z",
     "start_time": "2021-08-29T07:11:30.790300Z"
    }
   },
   "outputs": [],
   "source": [
    "feature_df_train.drop(columns=[\n",
    "    col for col in feature_df_train.columns if len(feature_df_train[col].unique()) < 2\n",
    "],\n",
    "                inplace=True)"
   ]
  },
  {
   "cell_type": "markdown",
   "metadata": {},
   "source": [
    "## Infinity Drop"
   ]
  },
  {
   "cell_type": "code",
   "execution_count": 127,
   "metadata": {
    "ExecuteTime": {
     "end_time": "2021-08-29T07:11:31.562480Z",
     "start_time": "2021-08-29T07:11:31.555500Z"
    }
   },
   "outputs": [
    {
     "data": {
      "text/plain": [
       "Series([], dtype: object)"
      ]
     },
     "execution_count": 127,
     "metadata": {},
     "output_type": "execute_result"
    }
   ],
   "source": [
    "feature_df_train.columns.to_series()[np.isinf(feature_df_train).any()]"
   ]
  },
  {
   "cell_type": "markdown",
   "metadata": {},
   "source": [
    "# Model Train "
   ]
  },
  {
   "cell_type": "code",
   "execution_count": 170,
   "metadata": {
    "ExecuteTime": {
     "end_time": "2021-08-29T07:23:02.306749Z",
     "start_time": "2021-08-29T07:22:11.400999Z"
    }
   },
   "outputs": [
    {
     "name": "stdout",
     "output_type": "stream",
     "text": [
      "[12:52:11] WARNING: C:/Users/Administrator/workspace/xgboost-win64_release_1.4.0/src/learner.cc:573: \n",
      "Parameters: { \"class_weight\" } might not be used.\n",
      "\n",
      "  This may not be accurate due to some parameters are only used in language bindings but\n",
      "  passed down to XGBoost core.  Or some parameters are not used but slip through this\n",
      "  verification. Please open an issue if you find above cases.\n",
      "\n",
      "\n",
      "[12:52:11] WARNING: C:/Users/Administrator/workspace/xgboost-win64_release_1.4.0/src/learner.cc:1095: Starting in XGBoost 1.3.0, the default evaluation metric used with the objective 'binary:logistic' was changed from 'error' to 'logloss'. Explicitly set eval_metric if you'd like to restore the old behavior.\n"
     ]
    },
    {
     "data": {
      "text/plain": [
       "XGBClassifier(base_score=0.5, booster='gbtree', class_weight={0: 0.3, 1: 0.7},\n",
       "              colsample_bylevel=1, colsample_bynode=1, colsample_bytree=1,\n",
       "              gamma=0, gpu_id=-1, importance_type='gain',\n",
       "              interaction_constraints='', learning_rate=0.001, max_delta_step=0,\n",
       "              max_depth=55, min_child_weight=1, missing=-99,\n",
       "              monotone_constraints='()', n_estimators=500, n_jobs=-1,\n",
       "              num_parallel_tree=1, random_state=9, reg_alpha=0, reg_lambda=1,\n",
       "              scale_pos_weight=1, silent=None, subsample=1, tree_method='exact',\n",
       "              validate_parameters=1, verbosity=1)"
      ]
     },
     "execution_count": 170,
     "metadata": {},
     "output_type": "execute_result"
    }
   ],
   "source": [
    "clf = xgb.XGBClassifier(max_depth=55,\n",
    "                        learning_rate=0.001,\n",
    "                        n_estimators=500,\n",
    "                        verbosity=1,\n",
    "                        silent=None,\n",
    "                        objective='binary:logistic',\n",
    "                        booster='gbtree',\n",
    "                        n_jobs=-1,\n",
    "                        gamma=0,\n",
    "                        min_child_weight=1,\n",
    "                        max_delta_step=0,\n",
    "                        subsample=1,\n",
    "                        colsample_bytree=1,\n",
    "                        colsample_bynode=1,\n",
    "                        colsample_bylevel=1,\n",
    "                        reg_alpha=0,\n",
    "                        reg_lambda=1,\n",
    "                        class_weight={\n",
    "                            1: 0.7,\n",
    "                            0: 0.3\n",
    "                        },\n",
    "                        base_score=0.5,\n",
    "                        random_state=9,\n",
    "                        missing=-99)\n",
    "clf.fit(feature_df_train[feature_df_train.columns[:-1]],\n",
    "        feature_df_train.target)"
   ]
  },
  {
   "cell_type": "markdown",
   "metadata": {},
   "source": [
    "# Model Evaluate "
   ]
  },
  {
   "cell_type": "code",
   "execution_count": 171,
   "metadata": {
    "ExecuteTime": {
     "end_time": "2021-08-29T07:23:04.552668Z",
     "start_time": "2021-08-29T07:23:04.431992Z"
    }
   },
   "outputs": [
    {
     "data": {
      "text/plain": [
       "0    16555\n",
       "1    14794\n",
       "dtype: int64"
      ]
     },
     "execution_count": 171,
     "metadata": {},
     "output_type": "execute_result"
    }
   ],
   "source": [
    "pd.Series(clf.predict(feature_df_test)).value_counts()"
   ]
  },
  {
   "cell_type": "code",
   "execution_count": 172,
   "metadata": {
    "ExecuteTime": {
     "end_time": "2021-08-29T07:23:06.384067Z",
     "start_time": "2021-08-29T07:23:05.867450Z"
    }
   },
   "outputs": [
    {
     "data": {
      "text/plain": [
       "79.96884502277891"
      ]
     },
     "execution_count": 172,
     "metadata": {},
     "output_type": "execute_result"
    }
   ],
   "source": [
    "100 * metrics.f1_score(feature_df_train.target,\n",
    "                       clf.predict(\n",
    "                           feature_df_train[feature_df_train.columns[:-1]]),\n",
    "                       average='weighted')"
   ]
  },
  {
   "cell_type": "code",
   "execution_count": 173,
   "metadata": {
    "ExecuteTime": {
     "end_time": "2021-08-29T07:23:08.582404Z",
     "start_time": "2021-08-29T07:23:08.402885Z"
    }
   },
   "outputs": [],
   "source": [
    "pd.DataFrame({'id':test.id,\n",
    "              'is_pass':list(clf.predict(feature_df_test))\n",
    "             }).to_csv(\"submission_1.csv\",index=False)"
   ]
  },
  {
   "cell_type": "code",
   "execution_count": null,
   "metadata": {},
   "outputs": [],
   "source": []
  }
 ],
 "metadata": {
  "kernelspec": {
   "display_name": "Python 3",
   "language": "python",
   "name": "python3"
  },
  "language_info": {
   "codemirror_mode": {
    "name": "ipython",
    "version": 3
   },
   "file_extension": ".py",
   "mimetype": "text/x-python",
   "name": "python",
   "nbconvert_exporter": "python",
   "pygments_lexer": "ipython3",
   "version": "3.8.5"
  },
  "toc": {
   "base_numbering": 1,
   "nav_menu": {},
   "number_sections": true,
   "sideBar": true,
   "skip_h1_title": false,
   "title_cell": "Table of Contents",
   "title_sidebar": "Contents",
   "toc_cell": false,
   "toc_position": {},
   "toc_section_display": true,
   "toc_window_display": true
  },
  "varInspector": {
   "cols": {
    "lenName": 16,
    "lenType": 16,
    "lenVar": 40
   },
   "kernels_config": {
    "python": {
     "delete_cmd_postfix": "",
     "delete_cmd_prefix": "del ",
     "library": "var_list.py",
     "varRefreshCmd": "print(var_dic_list())"
    },
    "r": {
     "delete_cmd_postfix": ") ",
     "delete_cmd_prefix": "rm(",
     "library": "var_list.r",
     "varRefreshCmd": "cat(var_dic_list()) "
    }
   },
   "position": {
    "height": "766.215px",
    "left": "1651.32px",
    "right": "20px",
    "top": "125px",
    "width": "350px"
   },
   "types_to_exclude": [
    "module",
    "function",
    "builtin_function_or_method",
    "instance",
    "_Feature"
   ],
   "window_display": true
  }
 },
 "nbformat": 4,
 "nbformat_minor": 4
}
